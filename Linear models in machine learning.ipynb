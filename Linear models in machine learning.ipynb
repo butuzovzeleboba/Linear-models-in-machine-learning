{
 "cells": [
  {
   "cell_type": "markdown",
   "id": "4cfb4579",
   "metadata": {},
   "source": []
  },
  {
   "cell_type": "markdown",
   "id": "4d8565ea",
   "metadata": {},
   "source": [
    "Импортирование библиотек"
   ]
  },
  {
   "cell_type": "code",
   "execution_count": 173,
   "id": "3d7dc051",
   "metadata": {},
   "outputs": [],
   "source": [
    "import pandas as pd\n",
    "import matplotlib.pyplot as plt"
   ]
  },
  {
   "cell_type": "markdown",
   "id": "9f270f1f",
   "metadata": {},
   "source": [
    "## Загрузка данных"
   ]
  },
  {
   "cell_type": "markdown",
   "id": "4a150265",
   "metadata": {},
   "source": [
    "Загрузка данных 'ferma_main.csv'"
   ]
  },
  {
   "cell_type": "code",
   "execution_count": 114,
   "id": "518c12d8",
   "metadata": {},
   "outputs": [],
   "source": [
    "try:\n",
    "    ferma_main=pd.read_csv('/datasets/ferma_main.csv', delimiter=';')\n",
    "except FileNotFoundError:\n",
    "    ferma_main=pd.read_csv('ferma_main.csv', delimiter=';')"
   ]
  },
  {
   "cell_type": "markdown",
   "id": "81ac6308",
   "metadata": {},
   "source": [
    "Загрузка данных 'ferma_dad.csv'"
   ]
  },
  {
   "cell_type": "code",
   "execution_count": 115,
   "id": "6ffba019",
   "metadata": {},
   "outputs": [],
   "source": [
    "try:\n",
    "    ferma_dad=pd.read_csv('/datasets/ferma_dad.csv', delimiter=';')\n",
    "except FileNotFoundError:\n",
    "    ferma_dad=pd.read_csv('ferma_dad.csv', delimiter=';')"
   ]
  },
  {
   "cell_type": "markdown",
   "id": "e18bbda2",
   "metadata": {},
   "source": [
    "Загрузка данных 'cow_buy.csv'"
   ]
  },
  {
   "cell_type": "code",
   "execution_count": 116,
   "id": "4bddea6a",
   "metadata": {},
   "outputs": [],
   "source": [
    "try:\n",
    "    cow_buy=pd.read_csv('/datasets/cow_buy.csv', delimiter=';')\n",
    "except FileNotFoundError:\n",
    "    cow_buy=pd.read_csv('cow_buy.csv', delimiter=';')"
   ]
  },
  {
   "cell_type": "markdown",
   "id": "d34bbcd3",
   "metadata": {},
   "source": [
    "##  Предобработка данных"
   ]
  },
  {
   "cell_type": "markdown",
   "id": "9f867765",
   "metadata": {},
   "source": [
    "Просмотр информации о данных ferma_main"
   ]
  },
  {
   "cell_type": "code",
   "execution_count": 117,
   "id": "19a750e4",
   "metadata": {},
   "outputs": [
    {
     "name": "stdout",
     "output_type": "stream",
     "text": [
      "<class 'pandas.core.frame.DataFrame'>\n",
      "RangeIndex: 634 entries, 0 to 633\n",
      "Data columns (total 12 columns):\n",
      " #   Column                                 Non-Null Count  Dtype \n",
      "---  ------                                 --------------  ----- \n",
      " 0   id                                     634 non-null    int64 \n",
      " 1   Удой, кг                               634 non-null    int64 \n",
      " 2   ЭКЕ (Энергетическая кормовая единица)  634 non-null    object\n",
      " 3   Сырой протеин, г                       634 non-null    int64 \n",
      " 4   СПО (Сахаро-протеиновое соотношение)   634 non-null    object\n",
      " 5   Порода                                 634 non-null    object\n",
      " 6   Тип пастбища                           634 non-null    object\n",
      " 7   порода папы_быка                       634 non-null    object\n",
      " 8   Жирность,%                             634 non-null    object\n",
      " 9   Белок,%                                634 non-null    object\n",
      " 10  Вкус молока                            634 non-null    object\n",
      " 11  Возраст                                634 non-null    object\n",
      "dtypes: int64(3), object(9)\n",
      "memory usage: 59.6+ KB\n"
     ]
    }
   ],
   "source": [
    "ferma_main.info()"
   ]
  },
  {
   "cell_type": "markdown",
   "id": "e7c470de",
   "metadata": {},
   "source": [
    "Просмотр первых пяти строк в ferma_main"
   ]
  },
  {
   "cell_type": "code",
   "execution_count": 118,
   "id": "42913ffa",
   "metadata": {},
   "outputs": [
    {
     "data": {
      "text/html": [
       "<div>\n",
       "<style scoped>\n",
       "    .dataframe tbody tr th:only-of-type {\n",
       "        vertical-align: middle;\n",
       "    }\n",
       "\n",
       "    .dataframe tbody tr th {\n",
       "        vertical-align: top;\n",
       "    }\n",
       "\n",
       "    .dataframe thead th {\n",
       "        text-align: right;\n",
       "    }\n",
       "</style>\n",
       "<table border=\"1\" class=\"dataframe\">\n",
       "  <thead>\n",
       "    <tr style=\"text-align: right;\">\n",
       "      <th></th>\n",
       "      <th>id</th>\n",
       "      <th>Удой, кг</th>\n",
       "      <th>ЭКЕ (Энергетическая кормовая единица)</th>\n",
       "      <th>Сырой протеин, г</th>\n",
       "      <th>СПО (Сахаро-протеиновое соотношение)</th>\n",
       "      <th>Порода</th>\n",
       "      <th>Тип пастбища</th>\n",
       "      <th>порода папы_быка</th>\n",
       "      <th>Жирность,%</th>\n",
       "      <th>Белок,%</th>\n",
       "      <th>Вкус молока</th>\n",
       "      <th>Возраст</th>\n",
       "    </tr>\n",
       "  </thead>\n",
       "  <tbody>\n",
       "    <tr>\n",
       "      <th>0</th>\n",
       "      <td>1</td>\n",
       "      <td>5863</td>\n",
       "      <td>14,2</td>\n",
       "      <td>1743</td>\n",
       "      <td>0,89</td>\n",
       "      <td>Вис Бик Айдиал</td>\n",
       "      <td>Равнинное</td>\n",
       "      <td>Айдиал</td>\n",
       "      <td>3,58</td>\n",
       "      <td>3,076</td>\n",
       "      <td>вкусно</td>\n",
       "      <td>более_2_лет</td>\n",
       "    </tr>\n",
       "    <tr>\n",
       "      <th>1</th>\n",
       "      <td>2</td>\n",
       "      <td>5529</td>\n",
       "      <td>12,8</td>\n",
       "      <td>2138</td>\n",
       "      <td>0,89</td>\n",
       "      <td>Вис Бик Айдиал</td>\n",
       "      <td>Равнинные</td>\n",
       "      <td>Соверин</td>\n",
       "      <td>3,54</td>\n",
       "      <td>3,079</td>\n",
       "      <td>вкусно</td>\n",
       "      <td>менее_2_лет</td>\n",
       "    </tr>\n",
       "    <tr>\n",
       "      <th>2</th>\n",
       "      <td>3</td>\n",
       "      <td>5810</td>\n",
       "      <td>14</td>\n",
       "      <td>1854</td>\n",
       "      <td>0,885</td>\n",
       "      <td>РефлешнСоверинг</td>\n",
       "      <td>Холмистое</td>\n",
       "      <td>Соверин</td>\n",
       "      <td>3,59</td>\n",
       "      <td>3,074</td>\n",
       "      <td>не вкусно</td>\n",
       "      <td>более_2_лет</td>\n",
       "    </tr>\n",
       "    <tr>\n",
       "      <th>3</th>\n",
       "      <td>4</td>\n",
       "      <td>5895</td>\n",
       "      <td>12,4</td>\n",
       "      <td>2012</td>\n",
       "      <td>0,885</td>\n",
       "      <td>РефлешнСоверинг</td>\n",
       "      <td>Холмистое</td>\n",
       "      <td>Айдиал</td>\n",
       "      <td>3,4</td>\n",
       "      <td>3,075</td>\n",
       "      <td>не вкусно</td>\n",
       "      <td>более_2_лет</td>\n",
       "    </tr>\n",
       "    <tr>\n",
       "      <th>4</th>\n",
       "      <td>5</td>\n",
       "      <td>5302</td>\n",
       "      <td>12,8</td>\n",
       "      <td>1675</td>\n",
       "      <td>0,885</td>\n",
       "      <td>Вис Бик Айдиал</td>\n",
       "      <td>Равнинные</td>\n",
       "      <td>Соверин</td>\n",
       "      <td>3,73</td>\n",
       "      <td>3,073</td>\n",
       "      <td>вкусно</td>\n",
       "      <td>менее_2_лет</td>\n",
       "    </tr>\n",
       "  </tbody>\n",
       "</table>\n",
       "</div>"
      ],
      "text/plain": [
       "   id  Удой, кг ЭКЕ (Энергетическая кормовая единица)  Сырой протеин, г  \\\n",
       "0   1      5863                                  14,2              1743   \n",
       "1   2      5529                                  12,8              2138   \n",
       "2   3      5810                                    14              1854   \n",
       "3   4      5895                                  12,4              2012   \n",
       "4   5      5302                                  12,8              1675   \n",
       "\n",
       "  СПО (Сахаро-протеиновое соотношение)           Порода Тип пастбища  \\\n",
       "0                                 0,89   Вис Бик Айдиал    Равнинное   \n",
       "1                                 0,89   Вис Бик Айдиал    Равнинные   \n",
       "2                                0,885  РефлешнСоверинг    Холмистое   \n",
       "3                                0,885  РефлешнСоверинг    Холмистое   \n",
       "4                                0,885   Вис Бик Айдиал    Равнинные   \n",
       "\n",
       "  порода папы_быка Жирность,% Белок,% Вкус молока      Возраст  \n",
       "0           Айдиал       3,58   3,076      вкусно  более_2_лет  \n",
       "1          Соверин       3,54   3,079      вкусно  менее_2_лет  \n",
       "2          Соверин       3,59   3,074   не вкусно  более_2_лет  \n",
       "3           Айдиал        3,4   3,075   не вкусно  более_2_лет  \n",
       "4          Соверин       3,73   3,073      вкусно  менее_2_лет  "
      ]
     },
     "execution_count": 118,
     "metadata": {},
     "output_type": "execute_result"
    }
   ],
   "source": [
    "ferma_main.head()"
   ]
  },
  {
   "cell_type": "markdown",
   "id": "e9e52402",
   "metadata": {},
   "source": [
    "По данным можно сразу сказать, что столбик id лишний, явных пропусков нет, тип обьектов нужно поменять"
   ]
  },
  {
   "cell_type": "markdown",
   "id": "1f18ba10",
   "metadata": {},
   "source": [
    "Просмотр последних пяти строк в ferma_main"
   ]
  },
  {
   "cell_type": "code",
   "execution_count": 119,
   "id": "52c48dc5",
   "metadata": {},
   "outputs": [
    {
     "data": {
      "text/html": [
       "<div>\n",
       "<style scoped>\n",
       "    .dataframe tbody tr th:only-of-type {\n",
       "        vertical-align: middle;\n",
       "    }\n",
       "\n",
       "    .dataframe tbody tr th {\n",
       "        vertical-align: top;\n",
       "    }\n",
       "\n",
       "    .dataframe thead th {\n",
       "        text-align: right;\n",
       "    }\n",
       "</style>\n",
       "<table border=\"1\" class=\"dataframe\">\n",
       "  <thead>\n",
       "    <tr style=\"text-align: right;\">\n",
       "      <th></th>\n",
       "      <th>id</th>\n",
       "      <th>Удой, кг</th>\n",
       "      <th>ЭКЕ (Энергетическая кормовая единица)</th>\n",
       "      <th>Сырой протеин, г</th>\n",
       "      <th>СПО (Сахаро-протеиновое соотношение)</th>\n",
       "      <th>Порода</th>\n",
       "      <th>Тип пастбища</th>\n",
       "      <th>порода папы_быка</th>\n",
       "      <th>Жирность,%</th>\n",
       "      <th>Белок,%</th>\n",
       "      <th>Вкус молока</th>\n",
       "      <th>Возраст</th>\n",
       "    </tr>\n",
       "  </thead>\n",
       "  <tbody>\n",
       "    <tr>\n",
       "      <th>629</th>\n",
       "      <td>627</td>\n",
       "      <td>5970</td>\n",
       "      <td>14,4</td>\n",
       "      <td>1837</td>\n",
       "      <td>0,88</td>\n",
       "      <td>РефлешнСоверинг</td>\n",
       "      <td>Холмистое</td>\n",
       "      <td>Соверин</td>\n",
       "      <td>3,64</td>\n",
       "      <td>3,075</td>\n",
       "      <td>не вкусно</td>\n",
       "      <td>более_2_лет</td>\n",
       "    </tr>\n",
       "    <tr>\n",
       "      <th>630</th>\n",
       "      <td>627</td>\n",
       "      <td>5970</td>\n",
       "      <td>14,4</td>\n",
       "      <td>1837</td>\n",
       "      <td>0,88</td>\n",
       "      <td>РефлешнСоверинг</td>\n",
       "      <td>Холмистое</td>\n",
       "      <td>Соверин</td>\n",
       "      <td>3,64</td>\n",
       "      <td>3,075</td>\n",
       "      <td>не вкусно</td>\n",
       "      <td>более_2_лет</td>\n",
       "    </tr>\n",
       "    <tr>\n",
       "      <th>631</th>\n",
       "      <td>627</td>\n",
       "      <td>5970</td>\n",
       "      <td>14,4</td>\n",
       "      <td>1837</td>\n",
       "      <td>0,88</td>\n",
       "      <td>РефлешнСоверинг</td>\n",
       "      <td>Холмистое</td>\n",
       "      <td>Соверин</td>\n",
       "      <td>3,64</td>\n",
       "      <td>3,075</td>\n",
       "      <td>не вкусно</td>\n",
       "      <td>более_2_лет</td>\n",
       "    </tr>\n",
       "    <tr>\n",
       "      <th>632</th>\n",
       "      <td>627</td>\n",
       "      <td>5970</td>\n",
       "      <td>14,4</td>\n",
       "      <td>1837</td>\n",
       "      <td>0,88</td>\n",
       "      <td>РефлешнСоверинг</td>\n",
       "      <td>Холмистое</td>\n",
       "      <td>Соверин</td>\n",
       "      <td>3,64</td>\n",
       "      <td>3,075</td>\n",
       "      <td>не вкусно</td>\n",
       "      <td>более_2_лет</td>\n",
       "    </tr>\n",
       "    <tr>\n",
       "      <th>633</th>\n",
       "      <td>627</td>\n",
       "      <td>5970</td>\n",
       "      <td>14,4</td>\n",
       "      <td>1837</td>\n",
       "      <td>0,88</td>\n",
       "      <td>РефлешнСоверинг</td>\n",
       "      <td>Холмистое</td>\n",
       "      <td>Соверин</td>\n",
       "      <td>3,64</td>\n",
       "      <td>3,075</td>\n",
       "      <td>не вкусно</td>\n",
       "      <td>более_2_лет</td>\n",
       "    </tr>\n",
       "  </tbody>\n",
       "</table>\n",
       "</div>"
      ],
      "text/plain": [
       "      id  Удой, кг ЭКЕ (Энергетическая кормовая единица)  Сырой протеин, г  \\\n",
       "629  627      5970                                  14,4              1837   \n",
       "630  627      5970                                  14,4              1837   \n",
       "631  627      5970                                  14,4              1837   \n",
       "632  627      5970                                  14,4              1837   \n",
       "633  627      5970                                  14,4              1837   \n",
       "\n",
       "    СПО (Сахаро-протеиновое соотношение)           Порода Тип пастбища  \\\n",
       "629                                 0,88  РефлешнСоверинг    Холмистое   \n",
       "630                                 0,88  РефлешнСоверинг    Холмистое   \n",
       "631                                 0,88  РефлешнСоверинг    Холмистое   \n",
       "632                                 0,88  РефлешнСоверинг    Холмистое   \n",
       "633                                 0,88  РефлешнСоверинг    Холмистое   \n",
       "\n",
       "    порода папы_быка Жирность,% Белок,% Вкус молока      Возраст  \n",
       "629          Соверин       3,64   3,075   не вкусно  более_2_лет  \n",
       "630          Соверин       3,64   3,075   не вкусно  более_2_лет  \n",
       "631          Соверин       3,64   3,075   не вкусно  более_2_лет  \n",
       "632          Соверин       3,64   3,075   не вкусно  более_2_лет  \n",
       "633          Соверин       3,64   3,075   не вкусно  более_2_лет  "
      ]
     },
     "execution_count": 119,
     "metadata": {},
     "output_type": "execute_result"
    }
   ],
   "source": [
    "ferma_main.tail()"
   ]
  },
  {
   "cell_type": "markdown",
   "id": "d301d8f0",
   "metadata": {},
   "source": [
    "Удаление столбца 'id' из данных"
   ]
  },
  {
   "cell_type": "code",
   "execution_count": 120,
   "id": "f7bc1a72",
   "metadata": {},
   "outputs": [],
   "source": [
    "ferma_main.drop(columns=['id'], inplace=True)"
   ]
  },
  {
   "cell_type": "markdown",
   "id": "4c583b1f",
   "metadata": {},
   "source": [
    "Просмотр информации о данных ferma_dad"
   ]
  },
  {
   "cell_type": "code",
   "execution_count": 121,
   "id": "aa3a46a6",
   "metadata": {},
   "outputs": [
    {
     "name": "stdout",
     "output_type": "stream",
     "text": [
      "<class 'pandas.core.frame.DataFrame'>\n",
      "RangeIndex: 629 entries, 0 to 628\n",
      "Data columns (total 2 columns):\n",
      " #   Column    Non-Null Count  Dtype \n",
      "---  ------    --------------  ----- \n",
      " 0   id        629 non-null    int64 \n",
      " 1   Имя Папы  629 non-null    object\n",
      "dtypes: int64(1), object(1)\n",
      "memory usage: 10.0+ KB\n"
     ]
    }
   ],
   "source": [
    "ferma_dad.info()"
   ]
  },
  {
   "cell_type": "markdown",
   "id": "0d5236f6",
   "metadata": {},
   "source": [
    "По данным можно сразу сказать, строк меньше чем в предыдущем датафрейме, явных пропусков нет, столбик id нужно удалить"
   ]
  },
  {
   "cell_type": "markdown",
   "id": "c0d5ae15",
   "metadata": {},
   "source": [
    "Просмотр первых пяти строк в ferma_dad"
   ]
  },
  {
   "cell_type": "code",
   "execution_count": 122,
   "id": "fc84c5ae",
   "metadata": {},
   "outputs": [
    {
     "data": {
      "text/html": [
       "<div>\n",
       "<style scoped>\n",
       "    .dataframe tbody tr th:only-of-type {\n",
       "        vertical-align: middle;\n",
       "    }\n",
       "\n",
       "    .dataframe tbody tr th {\n",
       "        vertical-align: top;\n",
       "    }\n",
       "\n",
       "    .dataframe thead th {\n",
       "        text-align: right;\n",
       "    }\n",
       "</style>\n",
       "<table border=\"1\" class=\"dataframe\">\n",
       "  <thead>\n",
       "    <tr style=\"text-align: right;\">\n",
       "      <th></th>\n",
       "      <th>id</th>\n",
       "      <th>Имя Папы</th>\n",
       "    </tr>\n",
       "  </thead>\n",
       "  <tbody>\n",
       "    <tr>\n",
       "      <th>0</th>\n",
       "      <td>1</td>\n",
       "      <td>Буйный</td>\n",
       "    </tr>\n",
       "    <tr>\n",
       "      <th>1</th>\n",
       "      <td>2</td>\n",
       "      <td>Соловчик</td>\n",
       "    </tr>\n",
       "    <tr>\n",
       "      <th>2</th>\n",
       "      <td>3</td>\n",
       "      <td>Барин</td>\n",
       "    </tr>\n",
       "    <tr>\n",
       "      <th>3</th>\n",
       "      <td>4</td>\n",
       "      <td>Буйный</td>\n",
       "    </tr>\n",
       "    <tr>\n",
       "      <th>4</th>\n",
       "      <td>5</td>\n",
       "      <td>Барин</td>\n",
       "    </tr>\n",
       "  </tbody>\n",
       "</table>\n",
       "</div>"
      ],
      "text/plain": [
       "   id  Имя Папы\n",
       "0   1    Буйный\n",
       "1   2  Соловчик\n",
       "2   3     Барин\n",
       "3   4    Буйный\n",
       "4   5     Барин"
      ]
     },
     "execution_count": 122,
     "metadata": {},
     "output_type": "execute_result"
    }
   ],
   "source": [
    "ferma_dad.head()"
   ]
  },
  {
   "cell_type": "markdown",
   "id": "454c3961",
   "metadata": {},
   "source": [
    "Просмотр последних пяти строк в ferma_dad"
   ]
  },
  {
   "cell_type": "code",
   "execution_count": 123,
   "id": "8acc3d0f",
   "metadata": {},
   "outputs": [
    {
     "data": {
      "text/html": [
       "<div>\n",
       "<style scoped>\n",
       "    .dataframe tbody tr th:only-of-type {\n",
       "        vertical-align: middle;\n",
       "    }\n",
       "\n",
       "    .dataframe tbody tr th {\n",
       "        vertical-align: top;\n",
       "    }\n",
       "\n",
       "    .dataframe thead th {\n",
       "        text-align: right;\n",
       "    }\n",
       "</style>\n",
       "<table border=\"1\" class=\"dataframe\">\n",
       "  <thead>\n",
       "    <tr style=\"text-align: right;\">\n",
       "      <th></th>\n",
       "      <th>id</th>\n",
       "      <th>Имя Папы</th>\n",
       "    </tr>\n",
       "  </thead>\n",
       "  <tbody>\n",
       "    <tr>\n",
       "      <th>624</th>\n",
       "      <td>625</td>\n",
       "      <td>Буйный</td>\n",
       "    </tr>\n",
       "    <tr>\n",
       "      <th>625</th>\n",
       "      <td>626</td>\n",
       "      <td>Барин</td>\n",
       "    </tr>\n",
       "    <tr>\n",
       "      <th>626</th>\n",
       "      <td>627</td>\n",
       "      <td>Барин</td>\n",
       "    </tr>\n",
       "    <tr>\n",
       "      <th>627</th>\n",
       "      <td>628</td>\n",
       "      <td>Барин</td>\n",
       "    </tr>\n",
       "    <tr>\n",
       "      <th>628</th>\n",
       "      <td>629</td>\n",
       "      <td>Соловчик</td>\n",
       "    </tr>\n",
       "  </tbody>\n",
       "</table>\n",
       "</div>"
      ],
      "text/plain": [
       "      id  Имя Папы\n",
       "624  625    Буйный\n",
       "625  626     Барин\n",
       "626  627     Барин\n",
       "627  628     Барин\n",
       "628  629  Соловчик"
      ]
     },
     "execution_count": 123,
     "metadata": {},
     "output_type": "execute_result"
    }
   ],
   "source": [
    "ferma_dad.tail()"
   ]
  },
  {
   "cell_type": "markdown",
   "id": "76b3304f",
   "metadata": {},
   "source": [
    "Удаление столбика 'id'"
   ]
  },
  {
   "cell_type": "code",
   "execution_count": 124,
   "id": "3ddacf6c",
   "metadata": {},
   "outputs": [],
   "source": [
    "ferma_dad.drop(columns=['id'], inplace=True)"
   ]
  },
  {
   "cell_type": "markdown",
   "id": "cc59391f",
   "metadata": {},
   "source": [
    "Проверка"
   ]
  },
  {
   "cell_type": "code",
   "execution_count": 125,
   "id": "9afabd0b",
   "metadata": {},
   "outputs": [
    {
     "data": {
      "text/html": [
       "<div>\n",
       "<style scoped>\n",
       "    .dataframe tbody tr th:only-of-type {\n",
       "        vertical-align: middle;\n",
       "    }\n",
       "\n",
       "    .dataframe tbody tr th {\n",
       "        vertical-align: top;\n",
       "    }\n",
       "\n",
       "    .dataframe thead th {\n",
       "        text-align: right;\n",
       "    }\n",
       "</style>\n",
       "<table border=\"1\" class=\"dataframe\">\n",
       "  <thead>\n",
       "    <tr style=\"text-align: right;\">\n",
       "      <th></th>\n",
       "      <th>Имя Папы</th>\n",
       "    </tr>\n",
       "  </thead>\n",
       "  <tbody>\n",
       "    <tr>\n",
       "      <th>0</th>\n",
       "      <td>Буйный</td>\n",
       "    </tr>\n",
       "    <tr>\n",
       "      <th>1</th>\n",
       "      <td>Соловчик</td>\n",
       "    </tr>\n",
       "    <tr>\n",
       "      <th>2</th>\n",
       "      <td>Барин</td>\n",
       "    </tr>\n",
       "    <tr>\n",
       "      <th>3</th>\n",
       "      <td>Буйный</td>\n",
       "    </tr>\n",
       "    <tr>\n",
       "      <th>4</th>\n",
       "      <td>Барин</td>\n",
       "    </tr>\n",
       "  </tbody>\n",
       "</table>\n",
       "</div>"
      ],
      "text/plain": [
       "   Имя Папы\n",
       "0    Буйный\n",
       "1  Соловчик\n",
       "2     Барин\n",
       "3    Буйный\n",
       "4     Барин"
      ]
     },
     "execution_count": 125,
     "metadata": {},
     "output_type": "execute_result"
    }
   ],
   "source": [
    "ferma_dad.head()"
   ]
  },
  {
   "cell_type": "markdown",
   "id": "0a81534a",
   "metadata": {},
   "source": [
    "Просмотр информации о данных cow_buy"
   ]
  },
  {
   "cell_type": "code",
   "execution_count": 126,
   "id": "2aa93995",
   "metadata": {},
   "outputs": [
    {
     "name": "stdout",
     "output_type": "stream",
     "text": [
      "<class 'pandas.core.frame.DataFrame'>\n",
      "RangeIndex: 20 entries, 0 to 19\n",
      "Data columns (total 7 columns):\n",
      " #   Column                   Non-Null Count  Dtype \n",
      "---  ------                   --------------  ----- \n",
      " 0   Порода                   20 non-null     object\n",
      " 1   Тип пастбища             20 non-null     object\n",
      " 2   порода папы_быка         20 non-null     object\n",
      " 3   Имя_папы                 20 non-null     object\n",
      " 4   Текущая_жирность,%       20 non-null     object\n",
      " 5   Текущий_уровень_белок,%  20 non-null     object\n",
      " 6   Возраст                  20 non-null     object\n",
      "dtypes: object(7)\n",
      "memory usage: 1.2+ KB\n"
     ]
    }
   ],
   "source": [
    "cow_buy.info()"
   ]
  },
  {
   "cell_type": "markdown",
   "id": "7d948a8b",
   "metadata": {},
   "source": [
    "По данным можно сразу сказать, что строк гораздо меньше чем в предыдущих данных, тип обьектов нужно поменять"
   ]
  },
  {
   "cell_type": "markdown",
   "id": "3039ad61",
   "metadata": {},
   "source": [
    "Вывод всех строк cow_buy"
   ]
  },
  {
   "cell_type": "code",
   "execution_count": 127,
   "id": "75e67377",
   "metadata": {},
   "outputs": [
    {
     "data": {
      "text/html": [
       "<div>\n",
       "<style scoped>\n",
       "    .dataframe tbody tr th:only-of-type {\n",
       "        vertical-align: middle;\n",
       "    }\n",
       "\n",
       "    .dataframe tbody tr th {\n",
       "        vertical-align: top;\n",
       "    }\n",
       "\n",
       "    .dataframe thead th {\n",
       "        text-align: right;\n",
       "    }\n",
       "</style>\n",
       "<table border=\"1\" class=\"dataframe\">\n",
       "  <thead>\n",
       "    <tr style=\"text-align: right;\">\n",
       "      <th></th>\n",
       "      <th>Порода</th>\n",
       "      <th>Тип пастбища</th>\n",
       "      <th>порода папы_быка</th>\n",
       "      <th>Имя_папы</th>\n",
       "      <th>Текущая_жирность,%</th>\n",
       "      <th>Текущий_уровень_белок,%</th>\n",
       "      <th>Возраст</th>\n",
       "    </tr>\n",
       "  </thead>\n",
       "  <tbody>\n",
       "    <tr>\n",
       "      <th>0</th>\n",
       "      <td>Вис Бик Айдиал</td>\n",
       "      <td>холмистое</td>\n",
       "      <td>Айдиал</td>\n",
       "      <td>Геркулес</td>\n",
       "      <td>3,58</td>\n",
       "      <td>3,076</td>\n",
       "      <td>более_2_лет</td>\n",
       "    </tr>\n",
       "    <tr>\n",
       "      <th>1</th>\n",
       "      <td>Вис Бик Айдиал</td>\n",
       "      <td>равнинное</td>\n",
       "      <td>Соверин</td>\n",
       "      <td>Буйный</td>\n",
       "      <td>3,54</td>\n",
       "      <td>3,081</td>\n",
       "      <td>менее_2_лет</td>\n",
       "    </tr>\n",
       "    <tr>\n",
       "      <th>2</th>\n",
       "      <td>РефлешнСоверинг</td>\n",
       "      <td>равнинное</td>\n",
       "      <td>Соверин</td>\n",
       "      <td>Барин</td>\n",
       "      <td>3,59</td>\n",
       "      <td>3,074</td>\n",
       "      <td>более_2_лет</td>\n",
       "    </tr>\n",
       "    <tr>\n",
       "      <th>3</th>\n",
       "      <td>РефлешнСоверинг</td>\n",
       "      <td>холмистое</td>\n",
       "      <td>Айдиал</td>\n",
       "      <td>Буйный</td>\n",
       "      <td>3,4</td>\n",
       "      <td>3,061</td>\n",
       "      <td>более_2_лет</td>\n",
       "    </tr>\n",
       "    <tr>\n",
       "      <th>4</th>\n",
       "      <td>РефлешнСоверинг</td>\n",
       "      <td>равнинное</td>\n",
       "      <td>Айдиал</td>\n",
       "      <td>Буйный</td>\n",
       "      <td>3,64</td>\n",
       "      <td>3,074</td>\n",
       "      <td>более_2_лет</td>\n",
       "    </tr>\n",
       "    <tr>\n",
       "      <th>5</th>\n",
       "      <td>РефлешнСоверинг</td>\n",
       "      <td>равнинное</td>\n",
       "      <td>Соверин</td>\n",
       "      <td>Геркулес</td>\n",
       "      <td>3,63</td>\n",
       "      <td>3,053</td>\n",
       "      <td>менее_2_лет</td>\n",
       "    </tr>\n",
       "    <tr>\n",
       "      <th>6</th>\n",
       "      <td>Вис Бик Айдиал</td>\n",
       "      <td>холмистое</td>\n",
       "      <td>Айдиал</td>\n",
       "      <td>Геркулес</td>\n",
       "      <td>3,58</td>\n",
       "      <td>3,076</td>\n",
       "      <td>более_2_лет</td>\n",
       "    </tr>\n",
       "    <tr>\n",
       "      <th>7</th>\n",
       "      <td>Вис Бик Айдиал</td>\n",
       "      <td>равнинное</td>\n",
       "      <td>Соверин</td>\n",
       "      <td>Буйный</td>\n",
       "      <td>3,57</td>\n",
       "      <td>3,079</td>\n",
       "      <td>более_2_лет</td>\n",
       "    </tr>\n",
       "    <tr>\n",
       "      <th>8</th>\n",
       "      <td>РефлешнСоверинг</td>\n",
       "      <td>равнинное</td>\n",
       "      <td>Соверин</td>\n",
       "      <td>Барин</td>\n",
       "      <td>3,59</td>\n",
       "      <td>3,074</td>\n",
       "      <td>более_2_лет</td>\n",
       "    </tr>\n",
       "    <tr>\n",
       "      <th>9</th>\n",
       "      <td>РефлешнСоверинг</td>\n",
       "      <td>холмистое</td>\n",
       "      <td>Айдиал</td>\n",
       "      <td>Буйный</td>\n",
       "      <td>3,4</td>\n",
       "      <td>3,079</td>\n",
       "      <td>менее_2_лет</td>\n",
       "    </tr>\n",
       "    <tr>\n",
       "      <th>10</th>\n",
       "      <td>Вис Бик Айдиал</td>\n",
       "      <td>холмистое</td>\n",
       "      <td>Соверин</td>\n",
       "      <td>Соловчик</td>\n",
       "      <td>3,73</td>\n",
       "      <td>3,055</td>\n",
       "      <td>более_2_лет</td>\n",
       "    </tr>\n",
       "    <tr>\n",
       "      <th>11</th>\n",
       "      <td>РефлешнСоверинг</td>\n",
       "      <td>равнинное</td>\n",
       "      <td>Соверин</td>\n",
       "      <td>Геркулес</td>\n",
       "      <td>3,73</td>\n",
       "      <td>3,073</td>\n",
       "      <td>более_2_лет</td>\n",
       "    </tr>\n",
       "    <tr>\n",
       "      <th>12</th>\n",
       "      <td>Вис Бик Айдиал</td>\n",
       "      <td>холмистое</td>\n",
       "      <td>Айдиал</td>\n",
       "      <td>Геркулес</td>\n",
       "      <td>3,68</td>\n",
       "      <td>3,046</td>\n",
       "      <td>более_2_лет</td>\n",
       "    </tr>\n",
       "    <tr>\n",
       "      <th>13</th>\n",
       "      <td>Вис Бик Айдиал</td>\n",
       "      <td>холмистое</td>\n",
       "      <td>Соверин</td>\n",
       "      <td>Барин</td>\n",
       "      <td>3,42</td>\n",
       "      <td>3,075</td>\n",
       "      <td>менее_2_лет</td>\n",
       "    </tr>\n",
       "    <tr>\n",
       "      <th>14</th>\n",
       "      <td>РефлешнСоверинг</td>\n",
       "      <td>равнинное</td>\n",
       "      <td>Соверин</td>\n",
       "      <td>Барин</td>\n",
       "      <td>3,59</td>\n",
       "      <td>3,074</td>\n",
       "      <td>более_2_лет</td>\n",
       "    </tr>\n",
       "    <tr>\n",
       "      <th>15</th>\n",
       "      <td>РефлешнСоверинг</td>\n",
       "      <td>холмистое</td>\n",
       "      <td>Айдиал</td>\n",
       "      <td>Буйный</td>\n",
       "      <td>3,4</td>\n",
       "      <td>3,065</td>\n",
       "      <td>более_2_лет</td>\n",
       "    </tr>\n",
       "    <tr>\n",
       "      <th>16</th>\n",
       "      <td>Вис Бик Айдиал</td>\n",
       "      <td>холмистое</td>\n",
       "      <td>Соверин</td>\n",
       "      <td>Соловчик</td>\n",
       "      <td>3,73</td>\n",
       "      <td>3,079</td>\n",
       "      <td>более_2_лет</td>\n",
       "    </tr>\n",
       "    <tr>\n",
       "      <th>17</th>\n",
       "      <td>РефлешнСоверинг</td>\n",
       "      <td>равнинное</td>\n",
       "      <td>Соверин</td>\n",
       "      <td>Геркулес</td>\n",
       "      <td>3,77</td>\n",
       "      <td>3,053</td>\n",
       "      <td>менее_2_лет</td>\n",
       "    </tr>\n",
       "    <tr>\n",
       "      <th>18</th>\n",
       "      <td>Вис Бик Айдиал</td>\n",
       "      <td>равнинное</td>\n",
       "      <td>Соверин</td>\n",
       "      <td>Буйный</td>\n",
       "      <td>3,34</td>\n",
       "      <td>3,069</td>\n",
       "      <td>более_2_лет</td>\n",
       "    </tr>\n",
       "    <tr>\n",
       "      <th>19</th>\n",
       "      <td>РефлешнСоверинг</td>\n",
       "      <td>равнинное</td>\n",
       "      <td>Айдиал</td>\n",
       "      <td>Буйный</td>\n",
       "      <td>3,64</td>\n",
       "      <td>3,074</td>\n",
       "      <td>более_2_лет</td>\n",
       "    </tr>\n",
       "  </tbody>\n",
       "</table>\n",
       "</div>"
      ],
      "text/plain": [
       "             Порода Тип пастбища порода папы_быка  Имя_папы  \\\n",
       "0    Вис Бик Айдиал    холмистое           Айдиал  Геркулес   \n",
       "1    Вис Бик Айдиал    равнинное          Соверин    Буйный   \n",
       "2   РефлешнСоверинг    равнинное          Соверин     Барин   \n",
       "3   РефлешнСоверинг    холмистое           Айдиал    Буйный   \n",
       "4   РефлешнСоверинг    равнинное           Айдиал    Буйный   \n",
       "5   РефлешнСоверинг    равнинное          Соверин  Геркулес   \n",
       "6    Вис Бик Айдиал    холмистое           Айдиал  Геркулес   \n",
       "7    Вис Бик Айдиал    равнинное          Соверин    Буйный   \n",
       "8   РефлешнСоверинг    равнинное          Соверин     Барин   \n",
       "9   РефлешнСоверинг    холмистое           Айдиал    Буйный   \n",
       "10   Вис Бик Айдиал    холмистое          Соверин  Соловчик   \n",
       "11  РефлешнСоверинг    равнинное          Соверин  Геркулес   \n",
       "12   Вис Бик Айдиал    холмистое           Айдиал  Геркулес   \n",
       "13   Вис Бик Айдиал    холмистое          Соверин     Барин   \n",
       "14  РефлешнСоверинг    равнинное          Соверин     Барин   \n",
       "15  РефлешнСоверинг    холмистое           Айдиал    Буйный   \n",
       "16   Вис Бик Айдиал    холмистое          Соверин  Соловчик   \n",
       "17  РефлешнСоверинг    равнинное          Соверин  Геркулес   \n",
       "18   Вис Бик Айдиал    равнинное          Соверин    Буйный   \n",
       "19  РефлешнСоверинг    равнинное           Айдиал    Буйный   \n",
       "\n",
       "   Текущая_жирность,% Текущий_уровень_белок,%      Возраст  \n",
       "0                3,58                   3,076  более_2_лет  \n",
       "1                3,54                   3,081  менее_2_лет  \n",
       "2                3,59                   3,074  более_2_лет  \n",
       "3                 3,4                   3,061  более_2_лет  \n",
       "4                3,64                   3,074  более_2_лет  \n",
       "5                3,63                   3,053  менее_2_лет  \n",
       "6                3,58                   3,076  более_2_лет  \n",
       "7                3,57                   3,079  более_2_лет  \n",
       "8                3,59                   3,074  более_2_лет  \n",
       "9                 3,4                   3,079  менее_2_лет  \n",
       "10               3,73                   3,055  более_2_лет  \n",
       "11               3,73                   3,073  более_2_лет  \n",
       "12               3,68                   3,046  более_2_лет  \n",
       "13               3,42                   3,075  менее_2_лет  \n",
       "14               3,59                   3,074  более_2_лет  \n",
       "15                3,4                   3,065  более_2_лет  \n",
       "16               3,73                   3,079  более_2_лет  \n",
       "17               3,77                   3,053  менее_2_лет  \n",
       "18               3,34                   3,069  более_2_лет  \n",
       "19               3,64                   3,074  более_2_лет  "
      ]
     },
     "execution_count": 127,
     "metadata": {},
     "output_type": "execute_result"
    }
   ],
   "source": [
    "cow_buy"
   ]
  },
  {
   "cell_type": "markdown",
   "id": "b96660a9",
   "metadata": {},
   "source": [
    "Для дальнейшего редактирования данных выведем 10 первых строк данных"
   ]
  },
  {
   "cell_type": "code",
   "execution_count": 128,
   "id": "6749a783",
   "metadata": {},
   "outputs": [
    {
     "data": {
      "text/html": [
       "<div>\n",
       "<style scoped>\n",
       "    .dataframe tbody tr th:only-of-type {\n",
       "        vertical-align: middle;\n",
       "    }\n",
       "\n",
       "    .dataframe tbody tr th {\n",
       "        vertical-align: top;\n",
       "    }\n",
       "\n",
       "    .dataframe thead th {\n",
       "        text-align: right;\n",
       "    }\n",
       "</style>\n",
       "<table border=\"1\" class=\"dataframe\">\n",
       "  <thead>\n",
       "    <tr style=\"text-align: right;\">\n",
       "      <th></th>\n",
       "      <th>Удой, кг</th>\n",
       "      <th>ЭКЕ (Энергетическая кормовая единица)</th>\n",
       "      <th>Сырой протеин, г</th>\n",
       "      <th>СПО (Сахаро-протеиновое соотношение)</th>\n",
       "      <th>Порода</th>\n",
       "      <th>Тип пастбища</th>\n",
       "      <th>порода папы_быка</th>\n",
       "      <th>Жирность,%</th>\n",
       "      <th>Белок,%</th>\n",
       "      <th>Вкус молока</th>\n",
       "      <th>Возраст</th>\n",
       "    </tr>\n",
       "  </thead>\n",
       "  <tbody>\n",
       "    <tr>\n",
       "      <th>0</th>\n",
       "      <td>5863</td>\n",
       "      <td>14,2</td>\n",
       "      <td>1743</td>\n",
       "      <td>0,89</td>\n",
       "      <td>Вис Бик Айдиал</td>\n",
       "      <td>Равнинное</td>\n",
       "      <td>Айдиал</td>\n",
       "      <td>3,58</td>\n",
       "      <td>3,076</td>\n",
       "      <td>вкусно</td>\n",
       "      <td>более_2_лет</td>\n",
       "    </tr>\n",
       "    <tr>\n",
       "      <th>1</th>\n",
       "      <td>5529</td>\n",
       "      <td>12,8</td>\n",
       "      <td>2138</td>\n",
       "      <td>0,89</td>\n",
       "      <td>Вис Бик Айдиал</td>\n",
       "      <td>Равнинные</td>\n",
       "      <td>Соверин</td>\n",
       "      <td>3,54</td>\n",
       "      <td>3,079</td>\n",
       "      <td>вкусно</td>\n",
       "      <td>менее_2_лет</td>\n",
       "    </tr>\n",
       "    <tr>\n",
       "      <th>2</th>\n",
       "      <td>5810</td>\n",
       "      <td>14</td>\n",
       "      <td>1854</td>\n",
       "      <td>0,885</td>\n",
       "      <td>РефлешнСоверинг</td>\n",
       "      <td>Холмистое</td>\n",
       "      <td>Соверин</td>\n",
       "      <td>3,59</td>\n",
       "      <td>3,074</td>\n",
       "      <td>не вкусно</td>\n",
       "      <td>более_2_лет</td>\n",
       "    </tr>\n",
       "    <tr>\n",
       "      <th>3</th>\n",
       "      <td>5895</td>\n",
       "      <td>12,4</td>\n",
       "      <td>2012</td>\n",
       "      <td>0,885</td>\n",
       "      <td>РефлешнСоверинг</td>\n",
       "      <td>Холмистое</td>\n",
       "      <td>Айдиал</td>\n",
       "      <td>3,4</td>\n",
       "      <td>3,075</td>\n",
       "      <td>не вкусно</td>\n",
       "      <td>более_2_лет</td>\n",
       "    </tr>\n",
       "    <tr>\n",
       "      <th>4</th>\n",
       "      <td>5302</td>\n",
       "      <td>12,8</td>\n",
       "      <td>1675</td>\n",
       "      <td>0,885</td>\n",
       "      <td>Вис Бик Айдиал</td>\n",
       "      <td>Равнинные</td>\n",
       "      <td>Соверин</td>\n",
       "      <td>3,73</td>\n",
       "      <td>3,073</td>\n",
       "      <td>вкусно</td>\n",
       "      <td>менее_2_лет</td>\n",
       "    </tr>\n",
       "    <tr>\n",
       "      <th>5</th>\n",
       "      <td>5254</td>\n",
       "      <td>12,7</td>\n",
       "      <td>1806</td>\n",
       "      <td>0,885</td>\n",
       "      <td>РефлешнСоверинг</td>\n",
       "      <td>Холмистое</td>\n",
       "      <td>Соверин</td>\n",
       "      <td>3,13</td>\n",
       "      <td>3,078</td>\n",
       "      <td>вкусно</td>\n",
       "      <td>менее_2_лет</td>\n",
       "    </tr>\n",
       "    <tr>\n",
       "      <th>6</th>\n",
       "      <td>5910</td>\n",
       "      <td>13,2</td>\n",
       "      <td>1792</td>\n",
       "      <td>0,885</td>\n",
       "      <td>Вис Бик Айдиал</td>\n",
       "      <td>Равнинные</td>\n",
       "      <td>Соверин</td>\n",
       "      <td>3,48</td>\n",
       "      <td>3,077</td>\n",
       "      <td>вкусно</td>\n",
       "      <td>более_2_лет</td>\n",
       "    </tr>\n",
       "    <tr>\n",
       "      <th>7</th>\n",
       "      <td>6179</td>\n",
       "      <td>14,7</td>\n",
       "      <td>1806</td>\n",
       "      <td>0,93</td>\n",
       "      <td>Вис Бик Айдиал</td>\n",
       "      <td>Равнинные</td>\n",
       "      <td>Айдиал</td>\n",
       "      <td>3,55</td>\n",
       "      <td>3,076</td>\n",
       "      <td>вкусно</td>\n",
       "      <td>более_2_лет</td>\n",
       "    </tr>\n",
       "    <tr>\n",
       "      <th>8</th>\n",
       "      <td>6783</td>\n",
       "      <td>14,2</td>\n",
       "      <td>1918</td>\n",
       "      <td>0,94</td>\n",
       "      <td>РефлешнСоверинг</td>\n",
       "      <td>Холмистое</td>\n",
       "      <td>Айдиал</td>\n",
       "      <td>3,71</td>\n",
       "      <td>3,077</td>\n",
       "      <td>вкусно</td>\n",
       "      <td>более_2_лет</td>\n",
       "    </tr>\n",
       "    <tr>\n",
       "      <th>9</th>\n",
       "      <td>5339</td>\n",
       "      <td>13,4</td>\n",
       "      <td>1791</td>\n",
       "      <td>0,895</td>\n",
       "      <td>Вис Бик Айдиал</td>\n",
       "      <td>Холмистое</td>\n",
       "      <td>Соверин</td>\n",
       "      <td>3,13</td>\n",
       "      <td>3,075</td>\n",
       "      <td>вкусно</td>\n",
       "      <td>менее_2_лет</td>\n",
       "    </tr>\n",
       "  </tbody>\n",
       "</table>\n",
       "</div>"
      ],
      "text/plain": [
       "   Удой, кг ЭКЕ (Энергетическая кормовая единица)  Сырой протеин, г  \\\n",
       "0      5863                                  14,2              1743   \n",
       "1      5529                                  12,8              2138   \n",
       "2      5810                                    14              1854   \n",
       "3      5895                                  12,4              2012   \n",
       "4      5302                                  12,8              1675   \n",
       "5      5254                                  12,7              1806   \n",
       "6      5910                                  13,2              1792   \n",
       "7      6179                                  14,7              1806   \n",
       "8      6783                                  14,2              1918   \n",
       "9      5339                                  13,4              1791   \n",
       "\n",
       "  СПО (Сахаро-протеиновое соотношение)           Порода Тип пастбища  \\\n",
       "0                                 0,89   Вис Бик Айдиал    Равнинное   \n",
       "1                                 0,89   Вис Бик Айдиал    Равнинные   \n",
       "2                                0,885  РефлешнСоверинг    Холмистое   \n",
       "3                                0,885  РефлешнСоверинг    Холмистое   \n",
       "4                                0,885   Вис Бик Айдиал    Равнинные   \n",
       "5                                0,885  РефлешнСоверинг    Холмистое   \n",
       "6                                0,885   Вис Бик Айдиал    Равнинные   \n",
       "7                                 0,93   Вис Бик Айдиал    Равнинные   \n",
       "8                                 0,94  РефлешнСоверинг    Холмистое   \n",
       "9                                0,895   Вис Бик Айдиал    Холмистое   \n",
       "\n",
       "  порода папы_быка Жирность,% Белок,% Вкус молока      Возраст  \n",
       "0           Айдиал       3,58   3,076      вкусно  более_2_лет  \n",
       "1          Соверин       3,54   3,079      вкусно  менее_2_лет  \n",
       "2          Соверин       3,59   3,074   не вкусно  более_2_лет  \n",
       "3           Айдиал        3,4   3,075   не вкусно  более_2_лет  \n",
       "4          Соверин       3,73   3,073      вкусно  менее_2_лет  \n",
       "5          Соверин       3,13   3,078      вкусно  менее_2_лет  \n",
       "6          Соверин       3,48   3,077      вкусно  более_2_лет  \n",
       "7           Айдиал       3,55   3,076      вкусно  более_2_лет  \n",
       "8           Айдиал       3,71   3,077      вкусно  более_2_лет  \n",
       "9          Соверин       3,13   3,075      вкусно  менее_2_лет  "
      ]
     },
     "execution_count": 128,
     "metadata": {},
     "output_type": "execute_result"
    }
   ],
   "source": [
    "ferma_main.head(10)"
   ]
  },
  {
   "cell_type": "markdown",
   "id": "c5f86439",
   "metadata": {},
   "source": [
    "Просмотр уникальных значений столбца 'ЭКЕ (Энергетическая кормовая единица)'"
   ]
  },
  {
   "cell_type": "code",
   "execution_count": 129,
   "id": "092ffd3b",
   "metadata": {},
   "outputs": [
    {
     "data": {
      "text/plain": [
       "array(['14,2', '12,8', '14', '12,4', '12,7', '13,2', '14,7', '13,4',\n",
       "       '13,7', '16,5', '15,4', '14,5', '16', '15,6', '11,5', '15,7',\n",
       "       '14,3', '15,5', '14,6', '15,9', '15,2', '14,8', '16,4', '11,8',\n",
       "       '14,4', '16,1', '12,9', '13,8', '13,3', '16,3', '13,9', '14,1',\n",
       "       '16,7', '15,8', '16,2', '12,2', '14,9', '13,6', '12,5', '16,8',\n",
       "       '13,5', '15,1', '12,1', '16,6', '15,3', '13,1', '12,3', '11,9',\n",
       "       '12,6', '15', '13', '12', '11,1', '11,7', '10,9'], dtype=object)"
      ]
     },
     "execution_count": 129,
     "metadata": {},
     "output_type": "execute_result"
    }
   ],
   "source": [
    "ferma_main['ЭКЕ (Энергетическая кормовая единица)'].unique()"
   ]
  },
  {
   "cell_type": "markdown",
   "id": "9d883670",
   "metadata": {},
   "source": [
    "Замена запятых на точки, для того чтобы изменить тип данных в столбце на 'float'"
   ]
  },
  {
   "cell_type": "code",
   "execution_count": 130,
   "id": "76a53727",
   "metadata": {},
   "outputs": [],
   "source": [
    "ferma_main['ЭКЕ (Энергетическая кормовая единица)'] = ferma_main['ЭКЕ (Энергетическая кормовая единица)'].str.replace(',', '.')\n",
    "ferma_main['ЭКЕ (Энергетическая кормовая единица)']=ferma_main['ЭКЕ (Энергетическая кормовая единица)'].astype(float)"
   ]
  },
  {
   "cell_type": "markdown",
   "id": "8fd6beab",
   "metadata": {},
   "source": [
    "Просмотр уникальных значений столбца 'СПО (Сахаро-протеиновое соотношение)'"
   ]
  },
  {
   "cell_type": "code",
   "execution_count": 131,
   "id": "4d824ee0",
   "metadata": {},
   "outputs": [
    {
     "data": {
      "text/plain": [
       "array(['0,89', '0,885', '0,93', '0,94', '0,895', '0,95', '0,96', '0,85',\n",
       "       '0,84', '0,86', '0,88', '0,9'], dtype=object)"
      ]
     },
     "execution_count": 131,
     "metadata": {},
     "output_type": "execute_result"
    }
   ],
   "source": [
    "ferma_main['СПО (Сахаро-протеиновое соотношение)'].unique()"
   ]
  },
  {
   "cell_type": "markdown",
   "id": "7202f861",
   "metadata": {},
   "source": [
    "Замена запятых на точки, для того чтобы изменить тип данных в столбце на 'float'"
   ]
  },
  {
   "cell_type": "code",
   "execution_count": 132,
   "id": "80a2735a",
   "metadata": {},
   "outputs": [],
   "source": [
    "ferma_main['СПО (Сахаро-протеиновое соотношение)']=ferma_main['СПО (Сахаро-протеиновое соотношение)'].str.replace(',','.')\n",
    "ferma_main['СПО (Сахаро-протеиновое соотношение)']=ferma_main['СПО (Сахаро-протеиновое соотношение)'].astype(float)"
   ]
  },
  {
   "cell_type": "markdown",
   "id": "0d2db973",
   "metadata": {},
   "source": [
    "Просмотр уникальных значений столбца 'Жирность,%'"
   ]
  },
  {
   "cell_type": "code",
   "execution_count": 133,
   "id": "925fd7b6",
   "metadata": {},
   "outputs": [
    {
     "data": {
      "text/plain": [
       "array(['3,58', '3,54', '3,59', '3,4', '3,73', '3,13', '3,48', '3,55',\n",
       "       '3,71', '3,72', '3,61', '3,22', '3,03', '3,49', '3,31', '3,7',\n",
       "       '3,74', '3,21', '3,11', '3,25', '3,34', '3,24', '3,53', '3,16',\n",
       "       '3,26', '3,57', '3,44', '3,38', '3,18', '3,42', '3,62', '3,75',\n",
       "       '3,41', '3,27', '3,63', '3,12', '3,64', '3,69', '3,37', '3,65',\n",
       "       '3,33', '3,28', '3,35', '3,32', '3,23', '3,15', '3,01', '2,99',\n",
       "       '3,39', '3,19'], dtype=object)"
      ]
     },
     "execution_count": 133,
     "metadata": {},
     "output_type": "execute_result"
    }
   ],
   "source": [
    "ferma_main['Жирность,%'].unique()"
   ]
  },
  {
   "cell_type": "markdown",
   "id": "d8c6e4b9",
   "metadata": {},
   "source": [
    "Замена запятых на точки, для того чтобы изменить тип данных в столбце на 'float'"
   ]
  },
  {
   "cell_type": "code",
   "execution_count": 134,
   "id": "ab0c0498",
   "metadata": {},
   "outputs": [],
   "source": [
    "ferma_main['Жирность,%']=ferma_main['Жирность,%'].str.replace(',','.')\n",
    "ferma_main['Жирность,%']=ferma_main['Жирность,%'].astype(float)"
   ]
  },
  {
   "cell_type": "markdown",
   "id": "ff76b6de",
   "metadata": {},
   "source": [
    "Просмотр уникальных значений столбца 'Белок,%'"
   ]
  },
  {
   "cell_type": "code",
   "execution_count": 135,
   "id": "b7fa9721",
   "metadata": {},
   "outputs": [
    {
     "data": {
      "text/plain": [
       "array(['3,076', '3,079', '3,074', '3,075', '3,073', '3,078', '3,077',\n",
       "       '3,071', '3,08', '3,072', '3,081', '3,082', '3,07', '3,069',\n",
       "       '3,085'], dtype=object)"
      ]
     },
     "execution_count": 135,
     "metadata": {},
     "output_type": "execute_result"
    }
   ],
   "source": [
    "ferma_main['Белок,%'].unique()"
   ]
  },
  {
   "cell_type": "markdown",
   "id": "532e858a",
   "metadata": {},
   "source": [
    "Замена запятых на точки, для того чтобы изменить тип данных в столбце на 'float'"
   ]
  },
  {
   "cell_type": "code",
   "execution_count": 136,
   "id": "398f2b08",
   "metadata": {},
   "outputs": [],
   "source": [
    "ferma_main['Белок,%']=ferma_main['Белок,%'].str.replace(',','.')\n",
    "ferma_main['Белок,%']=ferma_main['Белок,%'].astype(float)"
   ]
  },
  {
   "cell_type": "markdown",
   "id": "8cdeda27",
   "metadata": {},
   "source": [
    "Просмотр уникальных значений столбца 'Порода'"
   ]
  },
  {
   "cell_type": "code",
   "execution_count": 137,
   "id": "94300980",
   "metadata": {},
   "outputs": [
    {
     "data": {
      "text/plain": [
       "array(['Вис Бик Айдиал', 'РефлешнСоверинг'], dtype=object)"
      ]
     },
     "execution_count": 137,
     "metadata": {},
     "output_type": "execute_result"
    }
   ],
   "source": [
    "ferma_main['Порода'].unique()"
   ]
  },
  {
   "cell_type": "markdown",
   "id": "2f46f84b",
   "metadata": {},
   "source": [
    "Просмотр уникальных значений столбца 'Тип пастбища'"
   ]
  },
  {
   "cell_type": "code",
   "execution_count": 138,
   "id": "c4086ae0",
   "metadata": {},
   "outputs": [
    {
     "data": {
      "text/plain": [
       "array(['Равнинное', 'Равнинные', 'Холмистое'], dtype=object)"
      ]
     },
     "execution_count": 138,
     "metadata": {},
     "output_type": "execute_result"
    }
   ],
   "source": [
    "ferma_main['Тип пастбища'].unique()"
   ]
  },
  {
   "cell_type": "markdown",
   "id": "a60a7133",
   "metadata": {},
   "source": [
    "Удаление неявных дубликатов (замена названия 'Равнинные' на 'Равнинное') и вывод результата"
   ]
  },
  {
   "cell_type": "code",
   "execution_count": 139,
   "id": "af492f77",
   "metadata": {},
   "outputs": [
    {
     "data": {
      "text/plain": [
       "array(['Равнинное', 'Холмистое'], dtype=object)"
      ]
     },
     "execution_count": 139,
     "metadata": {},
     "output_type": "execute_result"
    }
   ],
   "source": [
    "ferma_main['Тип пастбища']=ferma_main['Тип пастбища'].str.replace('Равнинные','Равнинное')\n",
    "ferma_main['Тип пастбища'].unique()"
   ]
  },
  {
   "cell_type": "markdown",
   "id": "cef70329",
   "metadata": {},
   "source": [
    "Просмотр уникальных значений столбца 'порода папы_быка'"
   ]
  },
  {
   "cell_type": "code",
   "execution_count": 140,
   "id": "62138149",
   "metadata": {},
   "outputs": [
    {
     "data": {
      "text/plain": [
       "array(['Айдиал', 'Соверин', 'Айдиалл'], dtype=object)"
      ]
     },
     "execution_count": 140,
     "metadata": {},
     "output_type": "execute_result"
    }
   ],
   "source": [
    "ferma_main['порода папы_быка'].unique()"
   ]
  },
  {
   "cell_type": "markdown",
   "id": "66568e49",
   "metadata": {},
   "source": [
    "Просмотр количества значений для определения как правильно писать Айдиал или Айдиалл"
   ]
  },
  {
   "cell_type": "code",
   "execution_count": 141,
   "id": "b51433b5",
   "metadata": {},
   "outputs": [
    {
     "data": {
      "text/plain": [
       "Соверин    316\n",
       "Айдиал     240\n",
       "Айдиалл     78\n",
       "Name: порода папы_быка, dtype: int64"
      ]
     },
     "execution_count": 141,
     "metadata": {},
     "output_type": "execute_result"
    }
   ],
   "source": [
    "ferma_main['порода папы_быка'].value_counts()"
   ]
  },
  {
   "cell_type": "markdown",
   "id": "83e3a155",
   "metadata": {},
   "source": [
    "Удаление неявных дубликатов (замена названия 'Айдиалл' на 'Айдиал') и вывод результата"
   ]
  },
  {
   "cell_type": "code",
   "execution_count": 142,
   "id": "21115f19",
   "metadata": {},
   "outputs": [
    {
     "data": {
      "text/plain": [
       "array(['Айдиал', 'Соверин'], dtype=object)"
      ]
     },
     "execution_count": 142,
     "metadata": {},
     "output_type": "execute_result"
    }
   ],
   "source": [
    "ferma_main['порода папы_быка']=ferma_main['порода папы_быка'].str.replace('Айдиалл','Айдиал')\n",
    "ferma_main['порода папы_быка'].unique()"
   ]
  },
  {
   "cell_type": "markdown",
   "id": "6c1229a4",
   "metadata": {},
   "source": [
    "Просмотр уникальных значений столбца 'Вкус молока'"
   ]
  },
  {
   "cell_type": "code",
   "execution_count": 143,
   "id": "45621565",
   "metadata": {},
   "outputs": [
    {
     "data": {
      "text/plain": [
       "array(['вкусно', 'не вкусно'], dtype=object)"
      ]
     },
     "execution_count": 143,
     "metadata": {},
     "output_type": "execute_result"
    }
   ],
   "source": [
    "ferma_main['Вкус молока'].unique()"
   ]
  },
  {
   "cell_type": "markdown",
   "id": "0be5e15e",
   "metadata": {},
   "source": [
    "Просмотр уникальных значений столбца 'Возраст'"
   ]
  },
  {
   "cell_type": "code",
   "execution_count": 144,
   "id": "027dbba8",
   "metadata": {},
   "outputs": [
    {
     "data": {
      "text/plain": [
       "array(['более_2_лет', 'менее_2_лет'], dtype=object)"
      ]
     },
     "execution_count": 144,
     "metadata": {},
     "output_type": "execute_result"
    }
   ],
   "source": [
    "ferma_main['Возраст'].unique()"
   ]
  },
  {
   "cell_type": "markdown",
   "id": "0982a613",
   "metadata": {},
   "source": [
    "Переименования столбцов"
   ]
  },
  {
   "cell_type": "code",
   "execution_count": 145,
   "id": "6437aa8b",
   "metadata": {},
   "outputs": [],
   "source": [
    "ferma_main.rename(columns={'Удой, кг':'удой_кг', \n",
    "                           'ЭКЕ (Энергетическая кормовая единица)':'энергетическая_кормовая_единица', \n",
    "                           'Сырой протеин, г':'сырой_протеин_г', \n",
    "                           'СПО (Сахаро-протеиновое соотношение)':'сахаро_протеиновое_соотношение', \n",
    "                           'Порода':'порода', \n",
    "                           'Тип пастбища':'тип_пастбища', \n",
    "                           'порода папы_быка':'порода_папы_быка',\n",
    "                           'Жирность,%':'процент_жирности',\n",
    "                           'Белок,%':'процент_белка',\n",
    "                           'Вкус молока':'вкус_молока',\n",
    "                           'Возраст':'возраст'\n",
    "                          }, inplace=True)"
   ]
  },
  {
   "cell_type": "markdown",
   "id": "54f620d7",
   "metadata": {},
   "source": [
    "Вывод результатов проделанных изменений с таблицой 'ferma_main'"
   ]
  },
  {
   "cell_type": "code",
   "execution_count": 146,
   "id": "5883aa3c",
   "metadata": {},
   "outputs": [
    {
     "name": "stdout",
     "output_type": "stream",
     "text": [
      "<class 'pandas.core.frame.DataFrame'>\n",
      "RangeIndex: 634 entries, 0 to 633\n",
      "Data columns (total 11 columns):\n",
      " #   Column                           Non-Null Count  Dtype  \n",
      "---  ------                           --------------  -----  \n",
      " 0   удой_кг                          634 non-null    int64  \n",
      " 1   энергетическая_кормовая_единица  634 non-null    float64\n",
      " 2   сырой_протеин_г                  634 non-null    int64  \n",
      " 3   сахаро_протеиновое_соотношение   634 non-null    float64\n",
      " 4   порода                           634 non-null    object \n",
      " 5   тип_пастбища                     634 non-null    object \n",
      " 6   порода_папы_быка                 634 non-null    object \n",
      " 7   процент_жирности                 634 non-null    float64\n",
      " 8   процент_белка                    634 non-null    float64\n",
      " 9   вкус_молока                      634 non-null    object \n",
      " 10  возраст                          634 non-null    object \n",
      "dtypes: float64(4), int64(2), object(5)\n",
      "memory usage: 54.6+ KB\n"
     ]
    }
   ],
   "source": [
    "ferma_main.info()"
   ]
  },
  {
   "cell_type": "markdown",
   "id": "7c446e2c",
   "metadata": {},
   "source": [
    "Вывод таблицы 'ferma_dad' для обнаружения явных проблем"
   ]
  },
  {
   "cell_type": "code",
   "execution_count": 147,
   "id": "3446b341",
   "metadata": {},
   "outputs": [
    {
     "data": {
      "text/html": [
       "<div>\n",
       "<style scoped>\n",
       "    .dataframe tbody tr th:only-of-type {\n",
       "        vertical-align: middle;\n",
       "    }\n",
       "\n",
       "    .dataframe tbody tr th {\n",
       "        vertical-align: top;\n",
       "    }\n",
       "\n",
       "    .dataframe thead th {\n",
       "        text-align: right;\n",
       "    }\n",
       "</style>\n",
       "<table border=\"1\" class=\"dataframe\">\n",
       "  <thead>\n",
       "    <tr style=\"text-align: right;\">\n",
       "      <th></th>\n",
       "      <th>Имя Папы</th>\n",
       "    </tr>\n",
       "  </thead>\n",
       "  <tbody>\n",
       "    <tr>\n",
       "      <th>0</th>\n",
       "      <td>Буйный</td>\n",
       "    </tr>\n",
       "    <tr>\n",
       "      <th>1</th>\n",
       "      <td>Соловчик</td>\n",
       "    </tr>\n",
       "    <tr>\n",
       "      <th>2</th>\n",
       "      <td>Барин</td>\n",
       "    </tr>\n",
       "    <tr>\n",
       "      <th>3</th>\n",
       "      <td>Буйный</td>\n",
       "    </tr>\n",
       "    <tr>\n",
       "      <th>4</th>\n",
       "      <td>Барин</td>\n",
       "    </tr>\n",
       "    <tr>\n",
       "      <th>...</th>\n",
       "      <td>...</td>\n",
       "    </tr>\n",
       "    <tr>\n",
       "      <th>624</th>\n",
       "      <td>Буйный</td>\n",
       "    </tr>\n",
       "    <tr>\n",
       "      <th>625</th>\n",
       "      <td>Барин</td>\n",
       "    </tr>\n",
       "    <tr>\n",
       "      <th>626</th>\n",
       "      <td>Барин</td>\n",
       "    </tr>\n",
       "    <tr>\n",
       "      <th>627</th>\n",
       "      <td>Барин</td>\n",
       "    </tr>\n",
       "    <tr>\n",
       "      <th>628</th>\n",
       "      <td>Соловчик</td>\n",
       "    </tr>\n",
       "  </tbody>\n",
       "</table>\n",
       "<p>629 rows × 1 columns</p>\n",
       "</div>"
      ],
      "text/plain": [
       "     Имя Папы\n",
       "0      Буйный\n",
       "1    Соловчик\n",
       "2       Барин\n",
       "3      Буйный\n",
       "4       Барин\n",
       "..        ...\n",
       "624    Буйный\n",
       "625     Барин\n",
       "626     Барин\n",
       "627     Барин\n",
       "628  Соловчик\n",
       "\n",
       "[629 rows x 1 columns]"
      ]
     },
     "execution_count": 147,
     "metadata": {},
     "output_type": "execute_result"
    }
   ],
   "source": [
    "ferma_dad"
   ]
  },
  {
   "cell_type": "markdown",
   "id": "e272d7a9",
   "metadata": {},
   "source": [
    "Переименования столбца 'Имя Папы' на 'имя_папы'"
   ]
  },
  {
   "cell_type": "code",
   "execution_count": 148,
   "id": "c2ef6148",
   "metadata": {},
   "outputs": [],
   "source": [
    "ferma_dad.rename(columns={'Имя Папы':'имя_папы'}, inplace=True)"
   ]
  },
  {
   "cell_type": "markdown",
   "id": "1743b268",
   "metadata": {},
   "source": [
    "Прсмотр уникальных значений"
   ]
  },
  {
   "cell_type": "code",
   "execution_count": 149,
   "id": "218b9aa4",
   "metadata": {},
   "outputs": [
    {
     "data": {
      "text/plain": [
       "array(['Буйный', 'Соловчик', 'Барин', 'Геркулес'], dtype=object)"
      ]
     },
     "execution_count": 149,
     "metadata": {},
     "output_type": "execute_result"
    }
   ],
   "source": [
    "ferma_dad['имя_папы'].unique()"
   ]
  },
  {
   "cell_type": "markdown",
   "id": "0fb9d41c",
   "metadata": {},
   "source": [
    "Вывод таблицы 'cow_buy' для дальшейшей работы с ней"
   ]
  },
  {
   "cell_type": "code",
   "execution_count": 150,
   "id": "64cafaac",
   "metadata": {},
   "outputs": [
    {
     "data": {
      "text/html": [
       "<div>\n",
       "<style scoped>\n",
       "    .dataframe tbody tr th:only-of-type {\n",
       "        vertical-align: middle;\n",
       "    }\n",
       "\n",
       "    .dataframe tbody tr th {\n",
       "        vertical-align: top;\n",
       "    }\n",
       "\n",
       "    .dataframe thead th {\n",
       "        text-align: right;\n",
       "    }\n",
       "</style>\n",
       "<table border=\"1\" class=\"dataframe\">\n",
       "  <thead>\n",
       "    <tr style=\"text-align: right;\">\n",
       "      <th></th>\n",
       "      <th>Порода</th>\n",
       "      <th>Тип пастбища</th>\n",
       "      <th>порода папы_быка</th>\n",
       "      <th>Имя_папы</th>\n",
       "      <th>Текущая_жирность,%</th>\n",
       "      <th>Текущий_уровень_белок,%</th>\n",
       "      <th>Возраст</th>\n",
       "    </tr>\n",
       "  </thead>\n",
       "  <tbody>\n",
       "    <tr>\n",
       "      <th>0</th>\n",
       "      <td>Вис Бик Айдиал</td>\n",
       "      <td>холмистое</td>\n",
       "      <td>Айдиал</td>\n",
       "      <td>Геркулес</td>\n",
       "      <td>3,58</td>\n",
       "      <td>3,076</td>\n",
       "      <td>более_2_лет</td>\n",
       "    </tr>\n",
       "    <tr>\n",
       "      <th>1</th>\n",
       "      <td>Вис Бик Айдиал</td>\n",
       "      <td>равнинное</td>\n",
       "      <td>Соверин</td>\n",
       "      <td>Буйный</td>\n",
       "      <td>3,54</td>\n",
       "      <td>3,081</td>\n",
       "      <td>менее_2_лет</td>\n",
       "    </tr>\n",
       "    <tr>\n",
       "      <th>2</th>\n",
       "      <td>РефлешнСоверинг</td>\n",
       "      <td>равнинное</td>\n",
       "      <td>Соверин</td>\n",
       "      <td>Барин</td>\n",
       "      <td>3,59</td>\n",
       "      <td>3,074</td>\n",
       "      <td>более_2_лет</td>\n",
       "    </tr>\n",
       "    <tr>\n",
       "      <th>3</th>\n",
       "      <td>РефлешнСоверинг</td>\n",
       "      <td>холмистое</td>\n",
       "      <td>Айдиал</td>\n",
       "      <td>Буйный</td>\n",
       "      <td>3,4</td>\n",
       "      <td>3,061</td>\n",
       "      <td>более_2_лет</td>\n",
       "    </tr>\n",
       "    <tr>\n",
       "      <th>4</th>\n",
       "      <td>РефлешнСоверинг</td>\n",
       "      <td>равнинное</td>\n",
       "      <td>Айдиал</td>\n",
       "      <td>Буйный</td>\n",
       "      <td>3,64</td>\n",
       "      <td>3,074</td>\n",
       "      <td>более_2_лет</td>\n",
       "    </tr>\n",
       "    <tr>\n",
       "      <th>5</th>\n",
       "      <td>РефлешнСоверинг</td>\n",
       "      <td>равнинное</td>\n",
       "      <td>Соверин</td>\n",
       "      <td>Геркулес</td>\n",
       "      <td>3,63</td>\n",
       "      <td>3,053</td>\n",
       "      <td>менее_2_лет</td>\n",
       "    </tr>\n",
       "    <tr>\n",
       "      <th>6</th>\n",
       "      <td>Вис Бик Айдиал</td>\n",
       "      <td>холмистое</td>\n",
       "      <td>Айдиал</td>\n",
       "      <td>Геркулес</td>\n",
       "      <td>3,58</td>\n",
       "      <td>3,076</td>\n",
       "      <td>более_2_лет</td>\n",
       "    </tr>\n",
       "    <tr>\n",
       "      <th>7</th>\n",
       "      <td>Вис Бик Айдиал</td>\n",
       "      <td>равнинное</td>\n",
       "      <td>Соверин</td>\n",
       "      <td>Буйный</td>\n",
       "      <td>3,57</td>\n",
       "      <td>3,079</td>\n",
       "      <td>более_2_лет</td>\n",
       "    </tr>\n",
       "    <tr>\n",
       "      <th>8</th>\n",
       "      <td>РефлешнСоверинг</td>\n",
       "      <td>равнинное</td>\n",
       "      <td>Соверин</td>\n",
       "      <td>Барин</td>\n",
       "      <td>3,59</td>\n",
       "      <td>3,074</td>\n",
       "      <td>более_2_лет</td>\n",
       "    </tr>\n",
       "    <tr>\n",
       "      <th>9</th>\n",
       "      <td>РефлешнСоверинг</td>\n",
       "      <td>холмистое</td>\n",
       "      <td>Айдиал</td>\n",
       "      <td>Буйный</td>\n",
       "      <td>3,4</td>\n",
       "      <td>3,079</td>\n",
       "      <td>менее_2_лет</td>\n",
       "    </tr>\n",
       "    <tr>\n",
       "      <th>10</th>\n",
       "      <td>Вис Бик Айдиал</td>\n",
       "      <td>холмистое</td>\n",
       "      <td>Соверин</td>\n",
       "      <td>Соловчик</td>\n",
       "      <td>3,73</td>\n",
       "      <td>3,055</td>\n",
       "      <td>более_2_лет</td>\n",
       "    </tr>\n",
       "    <tr>\n",
       "      <th>11</th>\n",
       "      <td>РефлешнСоверинг</td>\n",
       "      <td>равнинное</td>\n",
       "      <td>Соверин</td>\n",
       "      <td>Геркулес</td>\n",
       "      <td>3,73</td>\n",
       "      <td>3,073</td>\n",
       "      <td>более_2_лет</td>\n",
       "    </tr>\n",
       "    <tr>\n",
       "      <th>12</th>\n",
       "      <td>Вис Бик Айдиал</td>\n",
       "      <td>холмистое</td>\n",
       "      <td>Айдиал</td>\n",
       "      <td>Геркулес</td>\n",
       "      <td>3,68</td>\n",
       "      <td>3,046</td>\n",
       "      <td>более_2_лет</td>\n",
       "    </tr>\n",
       "    <tr>\n",
       "      <th>13</th>\n",
       "      <td>Вис Бик Айдиал</td>\n",
       "      <td>холмистое</td>\n",
       "      <td>Соверин</td>\n",
       "      <td>Барин</td>\n",
       "      <td>3,42</td>\n",
       "      <td>3,075</td>\n",
       "      <td>менее_2_лет</td>\n",
       "    </tr>\n",
       "    <tr>\n",
       "      <th>14</th>\n",
       "      <td>РефлешнСоверинг</td>\n",
       "      <td>равнинное</td>\n",
       "      <td>Соверин</td>\n",
       "      <td>Барин</td>\n",
       "      <td>3,59</td>\n",
       "      <td>3,074</td>\n",
       "      <td>более_2_лет</td>\n",
       "    </tr>\n",
       "    <tr>\n",
       "      <th>15</th>\n",
       "      <td>РефлешнСоверинг</td>\n",
       "      <td>холмистое</td>\n",
       "      <td>Айдиал</td>\n",
       "      <td>Буйный</td>\n",
       "      <td>3,4</td>\n",
       "      <td>3,065</td>\n",
       "      <td>более_2_лет</td>\n",
       "    </tr>\n",
       "    <tr>\n",
       "      <th>16</th>\n",
       "      <td>Вис Бик Айдиал</td>\n",
       "      <td>холмистое</td>\n",
       "      <td>Соверин</td>\n",
       "      <td>Соловчик</td>\n",
       "      <td>3,73</td>\n",
       "      <td>3,079</td>\n",
       "      <td>более_2_лет</td>\n",
       "    </tr>\n",
       "    <tr>\n",
       "      <th>17</th>\n",
       "      <td>РефлешнСоверинг</td>\n",
       "      <td>равнинное</td>\n",
       "      <td>Соверин</td>\n",
       "      <td>Геркулес</td>\n",
       "      <td>3,77</td>\n",
       "      <td>3,053</td>\n",
       "      <td>менее_2_лет</td>\n",
       "    </tr>\n",
       "    <tr>\n",
       "      <th>18</th>\n",
       "      <td>Вис Бик Айдиал</td>\n",
       "      <td>равнинное</td>\n",
       "      <td>Соверин</td>\n",
       "      <td>Буйный</td>\n",
       "      <td>3,34</td>\n",
       "      <td>3,069</td>\n",
       "      <td>более_2_лет</td>\n",
       "    </tr>\n",
       "    <tr>\n",
       "      <th>19</th>\n",
       "      <td>РефлешнСоверинг</td>\n",
       "      <td>равнинное</td>\n",
       "      <td>Айдиал</td>\n",
       "      <td>Буйный</td>\n",
       "      <td>3,64</td>\n",
       "      <td>3,074</td>\n",
       "      <td>более_2_лет</td>\n",
       "    </tr>\n",
       "  </tbody>\n",
       "</table>\n",
       "</div>"
      ],
      "text/plain": [
       "             Порода Тип пастбища порода папы_быка  Имя_папы  \\\n",
       "0    Вис Бик Айдиал    холмистое           Айдиал  Геркулес   \n",
       "1    Вис Бик Айдиал    равнинное          Соверин    Буйный   \n",
       "2   РефлешнСоверинг    равнинное          Соверин     Барин   \n",
       "3   РефлешнСоверинг    холмистое           Айдиал    Буйный   \n",
       "4   РефлешнСоверинг    равнинное           Айдиал    Буйный   \n",
       "5   РефлешнСоверинг    равнинное          Соверин  Геркулес   \n",
       "6    Вис Бик Айдиал    холмистое           Айдиал  Геркулес   \n",
       "7    Вис Бик Айдиал    равнинное          Соверин    Буйный   \n",
       "8   РефлешнСоверинг    равнинное          Соверин     Барин   \n",
       "9   РефлешнСоверинг    холмистое           Айдиал    Буйный   \n",
       "10   Вис Бик Айдиал    холмистое          Соверин  Соловчик   \n",
       "11  РефлешнСоверинг    равнинное          Соверин  Геркулес   \n",
       "12   Вис Бик Айдиал    холмистое           Айдиал  Геркулес   \n",
       "13   Вис Бик Айдиал    холмистое          Соверин     Барин   \n",
       "14  РефлешнСоверинг    равнинное          Соверин     Барин   \n",
       "15  РефлешнСоверинг    холмистое           Айдиал    Буйный   \n",
       "16   Вис Бик Айдиал    холмистое          Соверин  Соловчик   \n",
       "17  РефлешнСоверинг    равнинное          Соверин  Геркулес   \n",
       "18   Вис Бик Айдиал    равнинное          Соверин    Буйный   \n",
       "19  РефлешнСоверинг    равнинное           Айдиал    Буйный   \n",
       "\n",
       "   Текущая_жирность,% Текущий_уровень_белок,%      Возраст  \n",
       "0                3,58                   3,076  более_2_лет  \n",
       "1                3,54                   3,081  менее_2_лет  \n",
       "2                3,59                   3,074  более_2_лет  \n",
       "3                 3,4                   3,061  более_2_лет  \n",
       "4                3,64                   3,074  более_2_лет  \n",
       "5                3,63                   3,053  менее_2_лет  \n",
       "6                3,58                   3,076  более_2_лет  \n",
       "7                3,57                   3,079  более_2_лет  \n",
       "8                3,59                   3,074  более_2_лет  \n",
       "9                 3,4                   3,079  менее_2_лет  \n",
       "10               3,73                   3,055  более_2_лет  \n",
       "11               3,73                   3,073  более_2_лет  \n",
       "12               3,68                   3,046  более_2_лет  \n",
       "13               3,42                   3,075  менее_2_лет  \n",
       "14               3,59                   3,074  более_2_лет  \n",
       "15                3,4                   3,065  более_2_лет  \n",
       "16               3,73                   3,079  более_2_лет  \n",
       "17               3,77                   3,053  менее_2_лет  \n",
       "18               3,34                   3,069  более_2_лет  \n",
       "19               3,64                   3,074  более_2_лет  "
      ]
     },
     "execution_count": 150,
     "metadata": {},
     "output_type": "execute_result"
    }
   ],
   "source": [
    "cow_buy"
   ]
  },
  {
   "cell_type": "markdown",
   "id": "8f4a8b4a",
   "metadata": {},
   "source": [
    "Вывод уникальных значений в столбце 'Текущая_жирность,%'"
   ]
  },
  {
   "cell_type": "code",
   "execution_count": 151,
   "id": "62284889",
   "metadata": {},
   "outputs": [
    {
     "data": {
      "text/plain": [
       "array(['3,58', '3,54', '3,59', '3,4', '3,64', '3,63', '3,57', '3,73',\n",
       "       '3,68', '3,42', '3,77', '3,34'], dtype=object)"
      ]
     },
     "execution_count": 151,
     "metadata": {},
     "output_type": "execute_result"
    }
   ],
   "source": [
    "cow_buy['Текущая_жирность,%'].unique()"
   ]
  },
  {
   "cell_type": "markdown",
   "id": "85de53b8",
   "metadata": {},
   "source": [
    "Замена запятых на точки, для того чтобы изменить тип данных в столбце на 'float'"
   ]
  },
  {
   "cell_type": "code",
   "execution_count": 152,
   "id": "26f325bd",
   "metadata": {},
   "outputs": [],
   "source": [
    "cow_buy['Текущая_жирность,%']=cow_buy['Текущая_жирность,%'].str.replace(',','.')\n",
    "cow_buy['Текущая_жирность,%']=cow_buy['Текущая_жирность,%'].astype(float)"
   ]
  },
  {
   "cell_type": "markdown",
   "id": "2eed35ef",
   "metadata": {},
   "source": [
    "Вывод уникальных значений в столбце 'Текущий_уровень_белок,%'"
   ]
  },
  {
   "cell_type": "code",
   "execution_count": 153,
   "id": "7e61ec61",
   "metadata": {},
   "outputs": [
    {
     "data": {
      "text/plain": [
       "array(['3,076', '3,081', '3,074', '3,061', '3,053', '3,079', '3,055',\n",
       "       '3,073', '3,046', '3,075', '3,065', '3,069'], dtype=object)"
      ]
     },
     "execution_count": 153,
     "metadata": {},
     "output_type": "execute_result"
    }
   ],
   "source": [
    "cow_buy['Текущий_уровень_белок,%'].unique()"
   ]
  },
  {
   "cell_type": "markdown",
   "id": "2f67080f",
   "metadata": {},
   "source": [
    "Замена запятых на точки, для того чтобы изменить тип данных в столбце на 'float'"
   ]
  },
  {
   "cell_type": "code",
   "execution_count": 154,
   "id": "9de28382",
   "metadata": {},
   "outputs": [],
   "source": [
    "cow_buy['Текущий_уровень_белок,%']=cow_buy['Текущий_уровень_белок,%'].str.replace(',','.')\n",
    "cow_buy['Текущий_уровень_белок,%']=cow_buy['Текущий_уровень_белок,%'].astype(float)"
   ]
  },
  {
   "cell_type": "markdown",
   "id": "05912733",
   "metadata": {},
   "source": [
    "Вывод уникальных значений в столбце 'Порода'"
   ]
  },
  {
   "cell_type": "code",
   "execution_count": 155,
   "id": "92be4a6f",
   "metadata": {},
   "outputs": [
    {
     "data": {
      "text/plain": [
       "array(['Вис Бик Айдиал', 'РефлешнСоверинг'], dtype=object)"
      ]
     },
     "execution_count": 155,
     "metadata": {},
     "output_type": "execute_result"
    }
   ],
   "source": [
    "cow_buy['Порода'].unique()"
   ]
  },
  {
   "cell_type": "markdown",
   "id": "09a7fa86",
   "metadata": {},
   "source": [
    "Вывод уникальных значений в столбце 'Тип пастбища'"
   ]
  },
  {
   "cell_type": "code",
   "execution_count": 156,
   "id": "9c232a98",
   "metadata": {},
   "outputs": [
    {
     "data": {
      "text/plain": [
       "array(['холмистое', 'равнинное'], dtype=object)"
      ]
     },
     "execution_count": 156,
     "metadata": {},
     "output_type": "execute_result"
    }
   ],
   "source": [
    "cow_buy['Тип пастбища'].unique()"
   ]
  },
  {
   "cell_type": "markdown",
   "id": "42bae193",
   "metadata": {},
   "source": [
    "Вывод уникальных значений в столбце 'порода папы_быка'"
   ]
  },
  {
   "cell_type": "code",
   "execution_count": 157,
   "id": "1cd0f850",
   "metadata": {},
   "outputs": [
    {
     "data": {
      "text/plain": [
       "array(['Айдиал', 'Соверин'], dtype=object)"
      ]
     },
     "execution_count": 157,
     "metadata": {},
     "output_type": "execute_result"
    }
   ],
   "source": [
    "cow_buy['порода папы_быка'].unique()"
   ]
  },
  {
   "cell_type": "markdown",
   "id": "9373f12b",
   "metadata": {},
   "source": [
    "Вывод уникальных значений в столбце 'имя папы'"
   ]
  },
  {
   "cell_type": "code",
   "execution_count": 158,
   "id": "f96da86f",
   "metadata": {},
   "outputs": [
    {
     "data": {
      "text/plain": [
       "array(['Геркулес', 'Буйный', 'Барин', 'Соловчик'], dtype=object)"
      ]
     },
     "execution_count": 158,
     "metadata": {},
     "output_type": "execute_result"
    }
   ],
   "source": [
    "cow_buy['Имя_папы'].unique()"
   ]
  },
  {
   "cell_type": "markdown",
   "id": "d2e6e164",
   "metadata": {},
   "source": [
    "Вывод уникальных значений в столбце 'Возраст'"
   ]
  },
  {
   "cell_type": "code",
   "execution_count": 159,
   "id": "6d184679",
   "metadata": {},
   "outputs": [
    {
     "data": {
      "text/plain": [
       "array(['более_2_лет', 'менее_2_лет'], dtype=object)"
      ]
     },
     "execution_count": 159,
     "metadata": {},
     "output_type": "execute_result"
    }
   ],
   "source": [
    "cow_buy['Возраст'].unique()"
   ]
  },
  {
   "cell_type": "markdown",
   "id": "ae94c365",
   "metadata": {},
   "source": [
    "Переименование столбцов"
   ]
  },
  {
   "cell_type": "code",
   "execution_count": 160,
   "id": "79f07f91",
   "metadata": {},
   "outputs": [],
   "source": [
    "cow_buy.rename(columns={'Порода':'порода', \n",
    "                           'Тип пастбища':'тип_пастбища', \n",
    "                           'порода папы_быка':'порода_папы_быка', \n",
    "                           'Имя_папы':'имя_папы',\n",
    "                           'Текущая_жирность,%':'процент_жирности',\n",
    "                           'Текущий_уровень_белок,%':'процент_белка',\n",
    "                           'Возраст':'возраст'\n",
    "                          }, inplace=True)"
   ]
  },
  {
   "cell_type": "markdown",
   "id": "1895fae6",
   "metadata": {},
   "source": [
    "Вывод информации после проделанной работы"
   ]
  },
  {
   "cell_type": "code",
   "execution_count": 161,
   "id": "878156a7",
   "metadata": {},
   "outputs": [
    {
     "name": "stdout",
     "output_type": "stream",
     "text": [
      "<class 'pandas.core.frame.DataFrame'>\n",
      "RangeIndex: 20 entries, 0 to 19\n",
      "Data columns (total 7 columns):\n",
      " #   Column            Non-Null Count  Dtype  \n",
      "---  ------            --------------  -----  \n",
      " 0   порода            20 non-null     object \n",
      " 1   тип_пастбища      20 non-null     object \n",
      " 2   порода_папы_быка  20 non-null     object \n",
      " 3   имя_папы          20 non-null     object \n",
      " 4   процент_жирности  20 non-null     float64\n",
      " 5   процент_белка     20 non-null     float64\n",
      " 6   возраст           20 non-null     object \n",
      "dtypes: float64(2), object(5)\n",
      "memory usage: 1.2+ KB\n"
     ]
    }
   ],
   "source": [
    "cow_buy.info()"
   ]
  },
  {
   "cell_type": "markdown",
   "id": "91992f89",
   "metadata": {},
   "source": [
    "Количество дубликатов в 'ferma_main'"
   ]
  },
  {
   "cell_type": "code",
   "execution_count": 162,
   "id": "55e9eae1",
   "metadata": {},
   "outputs": [
    {
     "data": {
      "text/plain": [
       "5"
      ]
     },
     "execution_count": 162,
     "metadata": {},
     "output_type": "execute_result"
    }
   ],
   "source": [
    "ferma_main.duplicated().sum()"
   ]
  },
  {
   "cell_type": "markdown",
   "id": "f30dfa56",
   "metadata": {},
   "source": [
    "Удаление дубликатов"
   ]
  },
  {
   "cell_type": "code",
   "execution_count": 163,
   "id": "e15e556d",
   "metadata": {},
   "outputs": [],
   "source": [
    "ferma_maina=ferma_main.drop_duplicates()"
   ]
  },
  {
   "cell_type": "markdown",
   "id": "03bb391d",
   "metadata": {},
   "source": [
    "Количество дубликатов в 'cow_buy'"
   ]
  },
  {
   "cell_type": "code",
   "execution_count": 164,
   "id": "93876afd",
   "metadata": {},
   "outputs": [
    {
     "data": {
      "text/plain": [
       "4"
      ]
     },
     "execution_count": 164,
     "metadata": {},
     "output_type": "execute_result"
    }
   ],
   "source": [
    "cow_buy.duplicated().sum()"
   ]
  },
  {
   "cell_type": "markdown",
   "id": "b7cdc264",
   "metadata": {},
   "source": [
    "Удаление дубликатов"
   ]
  },
  {
   "cell_type": "code",
   "execution_count": 165,
   "id": "d9456464",
   "metadata": {},
   "outputs": [],
   "source": [
    "cow_buy=cow_buy.drop_duplicates()"
   ]
  },
  {
   "cell_type": "markdown",
   "id": "702ff567",
   "metadata": {},
   "source": [
    "Количество дубликатов в 'ferma_dad'"
   ]
  },
  {
   "cell_type": "code",
   "execution_count": 166,
   "id": "9fe49e8e",
   "metadata": {},
   "outputs": [
    {
     "data": {
      "text/plain": [
       "625"
      ]
     },
     "execution_count": 166,
     "metadata": {},
     "output_type": "execute_result"
    }
   ],
   "source": [
    "ferma_dad.duplicated().sum()"
   ]
  },
  {
   "cell_type": "markdown",
   "id": "fc8bff2a",
   "metadata": {},
   "source": [
    "Могу предположить что это дубликаты которые не надо удалять"
   ]
  },
  {
   "cell_type": "code",
   "execution_count": 167,
   "id": "68b4d9f4",
   "metadata": {},
   "outputs": [
    {
     "data": {
      "text/html": [
       "<div>\n",
       "<style scoped>\n",
       "    .dataframe tbody tr th:only-of-type {\n",
       "        vertical-align: middle;\n",
       "    }\n",
       "\n",
       "    .dataframe tbody tr th {\n",
       "        vertical-align: top;\n",
       "    }\n",
       "\n",
       "    .dataframe thead th {\n",
       "        text-align: right;\n",
       "    }\n",
       "</style>\n",
       "<table border=\"1\" class=\"dataframe\">\n",
       "  <thead>\n",
       "    <tr style=\"text-align: right;\">\n",
       "      <th></th>\n",
       "      <th>имя_папы</th>\n",
       "    </tr>\n",
       "  </thead>\n",
       "  <tbody>\n",
       "    <tr>\n",
       "      <th>0</th>\n",
       "      <td>Буйный</td>\n",
       "    </tr>\n",
       "    <tr>\n",
       "      <th>1</th>\n",
       "      <td>Соловчик</td>\n",
       "    </tr>\n",
       "    <tr>\n",
       "      <th>2</th>\n",
       "      <td>Барин</td>\n",
       "    </tr>\n",
       "    <tr>\n",
       "      <th>3</th>\n",
       "      <td>Буйный</td>\n",
       "    </tr>\n",
       "    <tr>\n",
       "      <th>4</th>\n",
       "      <td>Барин</td>\n",
       "    </tr>\n",
       "    <tr>\n",
       "      <th>...</th>\n",
       "      <td>...</td>\n",
       "    </tr>\n",
       "    <tr>\n",
       "      <th>624</th>\n",
       "      <td>Буйный</td>\n",
       "    </tr>\n",
       "    <tr>\n",
       "      <th>625</th>\n",
       "      <td>Барин</td>\n",
       "    </tr>\n",
       "    <tr>\n",
       "      <th>626</th>\n",
       "      <td>Барин</td>\n",
       "    </tr>\n",
       "    <tr>\n",
       "      <th>627</th>\n",
       "      <td>Барин</td>\n",
       "    </tr>\n",
       "    <tr>\n",
       "      <th>628</th>\n",
       "      <td>Соловчик</td>\n",
       "    </tr>\n",
       "  </tbody>\n",
       "</table>\n",
       "<p>629 rows × 1 columns</p>\n",
       "</div>"
      ],
      "text/plain": [
       "     имя_папы\n",
       "0      Буйный\n",
       "1    Соловчик\n",
       "2       Барин\n",
       "3      Буйный\n",
       "4       Барин\n",
       "..        ...\n",
       "624    Буйный\n",
       "625     Барин\n",
       "626     Барин\n",
       "627     Барин\n",
       "628  Соловчик\n",
       "\n",
       "[629 rows x 1 columns]"
      ]
     },
     "execution_count": 167,
     "metadata": {},
     "output_type": "execute_result"
    }
   ],
   "source": [
    "ferma_dad"
   ]
  },
  {
   "cell_type": "markdown",
   "id": "7ce171a6",
   "metadata": {},
   "source": [
    "## Исследовательский анализ данных"
   ]
  },
  {
   "cell_type": "code",
   "execution_count": 168,
   "id": "774b6588",
   "metadata": {},
   "outputs": [
    {
     "data": {
      "text/html": [
       "<div>\n",
       "<style scoped>\n",
       "    .dataframe tbody tr th:only-of-type {\n",
       "        vertical-align: middle;\n",
       "    }\n",
       "\n",
       "    .dataframe tbody tr th {\n",
       "        vertical-align: top;\n",
       "    }\n",
       "\n",
       "    .dataframe thead th {\n",
       "        text-align: right;\n",
       "    }\n",
       "</style>\n",
       "<table border=\"1\" class=\"dataframe\">\n",
       "  <thead>\n",
       "    <tr style=\"text-align: right;\">\n",
       "      <th></th>\n",
       "      <th>удой_кг</th>\n",
       "      <th>энергетическая_кормовая_единица</th>\n",
       "      <th>сырой_протеин_г</th>\n",
       "      <th>сахаро_протеиновое_соотношение</th>\n",
       "      <th>процент_жирности</th>\n",
       "      <th>процент_белка</th>\n",
       "    </tr>\n",
       "  </thead>\n",
       "  <tbody>\n",
       "    <tr>\n",
       "      <th>count</th>\n",
       "      <td>634.000000</td>\n",
       "      <td>634.000000</td>\n",
       "      <td>634.000000</td>\n",
       "      <td>634.000000</td>\n",
       "      <td>634.000000</td>\n",
       "      <td>634.000000</td>\n",
       "    </tr>\n",
       "    <tr>\n",
       "      <th>mean</th>\n",
       "      <td>6187.025237</td>\n",
       "      <td>14.542744</td>\n",
       "      <td>1922.682965</td>\n",
       "      <td>0.912855</td>\n",
       "      <td>3.603943</td>\n",
       "      <td>3.075666</td>\n",
       "    </tr>\n",
       "    <tr>\n",
       "      <th>std</th>\n",
       "      <td>1638.401021</td>\n",
       "      <td>1.301301</td>\n",
       "      <td>182.392548</td>\n",
       "      <td>0.032209</td>\n",
       "      <td>0.168020</td>\n",
       "      <td>0.002540</td>\n",
       "    </tr>\n",
       "    <tr>\n",
       "      <th>min</th>\n",
       "      <td>5204.000000</td>\n",
       "      <td>10.900000</td>\n",
       "      <td>1660.000000</td>\n",
       "      <td>0.840000</td>\n",
       "      <td>2.990000</td>\n",
       "      <td>3.069000</td>\n",
       "    </tr>\n",
       "    <tr>\n",
       "      <th>25%</th>\n",
       "      <td>5751.750000</td>\n",
       "      <td>13.500000</td>\n",
       "      <td>1772.250000</td>\n",
       "      <td>0.890000</td>\n",
       "      <td>3.590000</td>\n",
       "      <td>3.074000</td>\n",
       "    </tr>\n",
       "    <tr>\n",
       "      <th>50%</th>\n",
       "      <td>6130.500000</td>\n",
       "      <td>14.700000</td>\n",
       "      <td>1880.500000</td>\n",
       "      <td>0.930000</td>\n",
       "      <td>3.650000</td>\n",
       "      <td>3.076000</td>\n",
       "    </tr>\n",
       "    <tr>\n",
       "      <th>75%</th>\n",
       "      <td>6501.000000</td>\n",
       "      <td>15.600000</td>\n",
       "      <td>2058.750000</td>\n",
       "      <td>0.940000</td>\n",
       "      <td>3.720000</td>\n",
       "      <td>3.077000</td>\n",
       "    </tr>\n",
       "    <tr>\n",
       "      <th>max</th>\n",
       "      <td>45616.000000</td>\n",
       "      <td>16.800000</td>\n",
       "      <td>2349.000000</td>\n",
       "      <td>0.960000</td>\n",
       "      <td>3.750000</td>\n",
       "      <td>3.085000</td>\n",
       "    </tr>\n",
       "  </tbody>\n",
       "</table>\n",
       "</div>"
      ],
      "text/plain": [
       "            удой_кг  энергетическая_кормовая_единица  сырой_протеин_г  \\\n",
       "count    634.000000                       634.000000       634.000000   \n",
       "mean    6187.025237                        14.542744      1922.682965   \n",
       "std     1638.401021                         1.301301       182.392548   \n",
       "min     5204.000000                        10.900000      1660.000000   \n",
       "25%     5751.750000                        13.500000      1772.250000   \n",
       "50%     6130.500000                        14.700000      1880.500000   \n",
       "75%     6501.000000                        15.600000      2058.750000   \n",
       "max    45616.000000                        16.800000      2349.000000   \n",
       "\n",
       "       сахаро_протеиновое_соотношение  процент_жирности  процент_белка  \n",
       "count                      634.000000        634.000000     634.000000  \n",
       "mean                         0.912855          3.603943       3.075666  \n",
       "std                          0.032209          0.168020       0.002540  \n",
       "min                          0.840000          2.990000       3.069000  \n",
       "25%                          0.890000          3.590000       3.074000  \n",
       "50%                          0.930000          3.650000       3.076000  \n",
       "75%                          0.940000          3.720000       3.077000  \n",
       "max                          0.960000          3.750000       3.085000  "
      ]
     },
     "execution_count": 168,
     "metadata": {},
     "output_type": "execute_result"
    }
   ],
   "source": [
    "ferma_main.describe()"
   ]
  },
  {
   "cell_type": "code",
   "execution_count": 169,
   "id": "4429a1ef",
   "metadata": {},
   "outputs": [
    {
     "data": {
      "text/html": [
       "<div>\n",
       "<style scoped>\n",
       "    .dataframe tbody tr th:only-of-type {\n",
       "        vertical-align: middle;\n",
       "    }\n",
       "\n",
       "    .dataframe tbody tr th {\n",
       "        vertical-align: top;\n",
       "    }\n",
       "\n",
       "    .dataframe thead th {\n",
       "        text-align: right;\n",
       "    }\n",
       "</style>\n",
       "<table border=\"1\" class=\"dataframe\">\n",
       "  <thead>\n",
       "    <tr style=\"text-align: right;\">\n",
       "      <th></th>\n",
       "      <th>процент_жирности</th>\n",
       "      <th>процент_белка</th>\n",
       "    </tr>\n",
       "  </thead>\n",
       "  <tbody>\n",
       "    <tr>\n",
       "      <th>count</th>\n",
       "      <td>16.000000</td>\n",
       "      <td>16.000000</td>\n",
       "    </tr>\n",
       "    <tr>\n",
       "      <th>mean</th>\n",
       "      <td>3.571875</td>\n",
       "      <td>3.068250</td>\n",
       "    </tr>\n",
       "    <tr>\n",
       "      <th>std</th>\n",
       "      <td>0.141620</td>\n",
       "      <td>0.011264</td>\n",
       "    </tr>\n",
       "    <tr>\n",
       "      <th>min</th>\n",
       "      <td>3.340000</td>\n",
       "      <td>3.046000</td>\n",
       "    </tr>\n",
       "    <tr>\n",
       "      <th>25%</th>\n",
       "      <td>3.415000</td>\n",
       "      <td>3.059500</td>\n",
       "    </tr>\n",
       "    <tr>\n",
       "      <th>50%</th>\n",
       "      <td>3.585000</td>\n",
       "      <td>3.073500</td>\n",
       "    </tr>\n",
       "    <tr>\n",
       "      <th>75%</th>\n",
       "      <td>3.692500</td>\n",
       "      <td>3.076750</td>\n",
       "    </tr>\n",
       "    <tr>\n",
       "      <th>max</th>\n",
       "      <td>3.770000</td>\n",
       "      <td>3.081000</td>\n",
       "    </tr>\n",
       "  </tbody>\n",
       "</table>\n",
       "</div>"
      ],
      "text/plain": [
       "       процент_жирности  процент_белка\n",
       "count         16.000000      16.000000\n",
       "mean           3.571875       3.068250\n",
       "std            0.141620       0.011264\n",
       "min            3.340000       3.046000\n",
       "25%            3.415000       3.059500\n",
       "50%            3.585000       3.073500\n",
       "75%            3.692500       3.076750\n",
       "max            3.770000       3.081000"
      ]
     },
     "execution_count": 169,
     "metadata": {},
     "output_type": "execute_result"
    }
   ],
   "source": [
    "cow_buy.describe()"
   ]
  },
  {
   "cell_type": "code",
   "execution_count": 195,
   "id": "50ffad7a",
   "metadata": {},
   "outputs": [
    {
     "data": {
      "text/plain": [
       "Text(0, 0.5, 'Частота')"
      ]
     },
     "execution_count": 195,
     "metadata": {},
     "output_type": "execute_result"
    },
    {
     "data": {
      "image/png": "[encoded data removed]",
      "text/plain": [
       "<Figure size 640x480 with 1 Axes>"
      ]
     },
     "metadata": {},
     "output_type": "display_data"
    }
   ],
   "source": [
    "plt.boxplot(ferma_main['удой_кг']);\n",
    "plt.title('Гистограмма распределения данных')\n",
    "plt.xlabel('Значения')\n",
    "plt.ylabel('Частота')"
   ]
  },
  {
   "cell_type": "code",
   "execution_count": 183,
   "id": "547aa223",
   "metadata": {},
   "outputs": [
    {
     "data": {
      "text/plain": [
       "16     45616\n",
       "70      7222\n",
       "135     7207\n",
       "296     7201\n",
       "294     7197\n",
       "       ...  \n",
       "578     5235\n",
       "322     5215\n",
       "589     5213\n",
       "397     5207\n",
       "273     5204\n",
       "Name: удой_кг, Length: 634, dtype: int64"
      ]
     },
     "execution_count": 183,
     "metadata": {},
     "output_type": "execute_result"
    }
   ],
   "source": [
    "ferma_main['удой_кг'].sort_values(ascending=False)"
   ]
  },
  {
   "cell_type": "code",
   "execution_count": 185,
   "id": "27c7bc47",
   "metadata": {},
   "outputs": [
    {
     "data": {
      "text/html": [
       "<div>\n",
       "<style scoped>\n",
       "    .dataframe tbody tr th:only-of-type {\n",
       "        vertical-align: middle;\n",
       "    }\n",
       "\n",
       "    .dataframe tbody tr th {\n",
       "        vertical-align: top;\n",
       "    }\n",
       "\n",
       "    .dataframe thead th {\n",
       "        text-align: right;\n",
       "    }\n",
       "</style>\n",
       "<table border=\"1\" class=\"dataframe\">\n",
       "  <thead>\n",
       "    <tr style=\"text-align: right;\">\n",
       "      <th></th>\n",
       "      <th>удой_кг</th>\n",
       "      <th>энергетическая_кормовая_единица</th>\n",
       "      <th>сырой_протеин_г</th>\n",
       "      <th>сахаро_протеиновое_соотношение</th>\n",
       "      <th>порода</th>\n",
       "      <th>тип_пастбища</th>\n",
       "      <th>порода_папы_быка</th>\n",
       "      <th>процент_жирности</th>\n",
       "      <th>процент_белка</th>\n",
       "      <th>вкус_молока</th>\n",
       "      <th>возраст</th>\n",
       "    </tr>\n",
       "  </thead>\n",
       "  <tbody>\n",
       "    <tr>\n",
       "      <th>16</th>\n",
       "      <td>45616</td>\n",
       "      <td>11.5</td>\n",
       "      <td>1675</td>\n",
       "      <td>0.93</td>\n",
       "      <td>Вис Бик Айдиал</td>\n",
       "      <td>Холмистое</td>\n",
       "      <td>Айдиал</td>\n",
       "      <td>3.22</td>\n",
       "      <td>3.076</td>\n",
       "      <td>вкусно</td>\n",
       "      <td>более_2_лет</td>\n",
       "    </tr>\n",
       "  </tbody>\n",
       "</table>\n",
       "</div>"
      ],
      "text/plain": [
       "    удой_кг  энергетическая_кормовая_единица  сырой_протеин_г  \\\n",
       "16    45616                             11.5             1675   \n",
       "\n",
       "    сахаро_протеиновое_соотношение          порода тип_пастбища  \\\n",
       "16                            0.93  Вис Бик Айдиал    Холмистое   \n",
       "\n",
       "   порода_папы_быка  процент_жирности  процент_белка вкус_молока      возраст  \n",
       "16           Айдиал              3.22          3.076      вкусно  более_2_лет  "
      ]
     },
     "execution_count": 185,
     "metadata": {},
     "output_type": "execute_result"
    }
   ],
   "source": [
    "ferma_maina.loc[ferma_main['удой_кг']==45616]"
   ]
  },
  {
   "cell_type": "code",
   "execution_count": 186,
   "id": "64f8d0a7",
   "metadata": {},
   "outputs": [],
   "source": [
    "ferma_main=ferma_maina.loc[ferma_main['удой_кг']!=45616]"
   ]
  },
  {
   "cell_type": "code",
   "execution_count": 187,
   "id": "760f89a7",
   "metadata": {},
   "outputs": [
    {
     "data": {
      "text/plain": [
       "70     7222\n",
       "135    7207\n",
       "296    7201\n",
       "294    7197\n",
       "593    7174\n",
       "       ... \n",
       "578    5235\n",
       "322    5215\n",
       "589    5213\n",
       "397    5207\n",
       "273    5204\n",
       "Name: удой_кг, Length: 628, dtype: int64"
      ]
     },
     "execution_count": 187,
     "metadata": {},
     "output_type": "execute_result"
    }
   ],
   "source": [
    "ferma_main['удой_кг'].sort_values(ascending=False)"
   ]
  },
  {
   "cell_type": "code",
   "execution_count": 230,
   "id": "2c822161",
   "metadata": {},
   "outputs": [
    {
     "data": {
      "image/png": "[encoded data removed]",
      "text/plain": [
       "<Figure size 640x480 with 1 Axes>"
      ]
     },
     "metadata": {},
     "output_type": "display_data"
    }
   ],
   "source": [
    "plt.boxplot(ferma_main['удой_кг'])\n",
    "plt.title('Гистограмма распределения данных')\n",
    "plt.xlabel('Значения')\n",
    "plt.ylabel('Частота');"
   ]
  },
  {
   "cell_type": "code",
   "execution_count": 229,
   "id": "0283c263",
   "metadata": {},
   "outputs": [
    {
     "data": {
      "image/png": "[encoded data removed]",
      "text/plain": [
       "<Figure size 640x480 with 1 Axes>"
      ]
     },
     "metadata": {},
     "output_type": "display_data"
    }
   ],
   "source": [
    "plt.hist(ferma_main['удой_кг'], bins=50, edgecolor='black')\n",
    "plt.title('Гистограмма распределения данных')\n",
    "plt.xlabel('Значения')\n",
    "plt.ylabel('Частота');"
   ]
  },
  {
   "cell_type": "code",
   "execution_count": 228,
   "id": "30d68179",
   "metadata": {},
   "outputs": [
    {
     "data": {
      "image/png": "[encoded data removed]",
      "text/plain": [
       "<Figure size 640x480 with 1 Axes>"
      ]
     },
     "metadata": {},
     "output_type": "display_data"
    }
   ],
   "source": [
    "plt.boxplot(ferma_main['энергетическая_кормовая_единица'])\n",
    "plt.title('Гистограмма распределения данных')\n",
    "plt.xlabel('Значения')\n",
    "plt.ylabel('Частота');"
   ]
  },
  {
   "cell_type": "code",
   "execution_count": 227,
   "id": "2fa72a99",
   "metadata": {},
   "outputs": [
    {
     "data": {
      "image/png": "[encoded data removed]",
      "text/plain": [
       "<Figure size 640x480 with 1 Axes>"
      ]
     },
     "metadata": {},
     "output_type": "display_data"
    }
   ],
   "source": [
    "plt.hist(ferma_main['энергетическая_кормовая_единица'], bins=50, edgecolor='black')\n",
    "plt.title('Гистограмма распределения данных')\n",
    "plt.xlabel('Значения')\n",
    "plt.ylabel('Частота');"
   ]
  },
  {
   "cell_type": "code",
   "execution_count": 226,
   "id": "97551f88",
   "metadata": {},
   "outputs": [
    {
     "data": {
      "image/png": "[encoded data removed]",
      "text/plain": [
       "<Figure size 640x480 with 1 Axes>"
      ]
     },
     "metadata": {},
     "output_type": "display_data"
    }
   ],
   "source": [
    "plt.boxplot(ferma_main['сырой_протеин_г'])\n",
    "plt.title('Гистограмма распределения данных')\n",
    "plt.xlabel('Значения')\n",
    "plt.ylabel('Частота');"
   ]
  },
  {
   "cell_type": "code",
   "execution_count": 225,
   "id": "5cf63f6d",
   "metadata": {},
   "outputs": [
    {
     "data": {
      "image/png": "[encoded data removed]",
      "text/plain": [
       "<Figure size 640x480 with 1 Axes>"
      ]
     },
     "metadata": {},
     "output_type": "display_data"
    }
   ],
   "source": [
    "plt.hist(ferma_main['сырой_протеин_г'], bins=50, edgecolor='black')\n",
    "plt.title('Гистограмма распределения данных')\n",
    "plt.xlabel('Значения')\n",
    "plt.ylabel('Частота');"
   ]
  },
  {
   "cell_type": "code",
   "execution_count": 224,
   "id": "2446f5ba",
   "metadata": {},
   "outputs": [
    {
     "data": {
      "image/png": "[encoded data removed]",
      "text/plain": [
       "<Figure size 640x480 with 1 Axes>"
      ]
     },
     "metadata": {},
     "output_type": "display_data"
    }
   ],
   "source": [
    "plt.boxplot(ferma_main['сахаро_протеиновое_соотношение'])\n",
    "plt.title('Гистограмма распределения данных')\n",
    "plt.xlabel('Значения')\n",
    "plt.ylabel('Частота');"
   ]
  },
  {
   "cell_type": "code",
   "execution_count": 221,
   "id": "98bebbf8",
   "metadata": {},
   "outputs": [
    {
     "data": {
      "image/png": "[encoded data removed]",
      "text/plain": [
       "<Figure size 640x480 with 1 Axes>"
      ]
     },
     "metadata": {},
     "output_type": "display_data"
    }
   ],
   "source": [
    "plt.hist(ferma_main['сахаро_протеиновое_соотношение'], bins=30, edgecolor='black')\n",
    "plt.title('Гистограмма распределения данных')\n",
    "plt.xlabel('Значения')\n",
    "plt.ylabel('Частота');"
   ]
  },
  {
   "cell_type": "code",
   "execution_count": 220,
   "id": "e855f4a9",
   "metadata": {},
   "outputs": [
    {
     "data": {
      "image/png": "[encoded data removed]",
      "text/plain": [
       "<Figure size 640x480 with 1 Axes>"
      ]
     },
     "metadata": {},
     "output_type": "display_data"
    }
   ],
   "source": [
    "circle=ferma_main['порода'].value_counts(normalize=True)*100\n",
    "plt.pie(circle, labels=circle.index, autopct='%1.1f%%');"
   ]
  },
  {
   "cell_type": "code",
   "execution_count": 222,
   "id": "03b51be7",
   "metadata": {},
   "outputs": [
    {
     "data": {
      "image/png": "[encoded data removed]",
      "text/plain": [
       "<Figure size 640x480 with 1 Axes>"
      ]
     },
     "metadata": {},
     "output_type": "display_data"
    }
   ],
   "source": [
    "circle=ferma_main['тип_пастбища'].value_counts(normalize=True)*100\n",
    "plt.pie(circle, labels=circle.index, autopct='%1.1f%%');"
   ]
  },
  {
   "cell_type": "code",
   "execution_count": 223,
   "id": "d16e62da",
   "metadata": {},
   "outputs": [
    {
     "data": {
      "image/png": "[encoded data removed]",
      "text/plain": [
       "<Figure size 640x480 with 1 Axes>"
      ]
     },
     "metadata": {},
     "output_type": "display_data"
    }
   ],
   "source": [
    "circle=ferma_main['порода_папы_быка'].value_counts(normalize=True)*100\n",
    "plt.pie(circle, labels=circle.index, autopct='%1.1f%%');"
   ]
  },
  {
   "cell_type": "code",
   "execution_count": 231,
   "id": "9ae37763",
   "metadata": {},
   "outputs": [
    {
     "data": {
      "image/png": "[encoded data removed]",
      "text/plain": [
       "<Figure size 640x480 with 1 Axes>"
      ]
     },
     "metadata": {},
     "output_type": "display_data"
    }
   ],
   "source": [
    "plt.boxplot(ferma_main['процент_жирности'])\n",
    "plt.title('Гистограмма распределения данных')\n",
    "plt.xlabel('Значения')\n",
    "plt.ylabel('Частота');"
   ]
  },
  {
   "cell_type": "code",
   "execution_count": 232,
   "id": "6d432e53",
   "metadata": {},
   "outputs": [
    {
     "data": {
      "image/png": "[encoded data removed]",
      "text/plain": [
       "<Figure size 640x480 with 1 Axes>"
      ]
     },
     "metadata": {},
     "output_type": "display_data"
    }
   ],
   "source": [
    "plt.hist(ferma_main['процент_жирности'], bins=30, edgecolor='black')\n",
    "plt.title('Гистограмма распределения данных')\n",
    "plt.xlabel('Значения')\n",
    "plt.ylabel('Частота');"
   ]
  },
  {
   "cell_type": "code",
   "execution_count": 234,
   "id": "ed5a404c",
   "metadata": {},
   "outputs": [
    {
     "data": {
      "image/png": "[encoded data removed]",
      "text/plain": [
       "<Figure size 640x480 with 1 Axes>"
      ]
     },
     "metadata": {},
     "output_type": "display_data"
    }
   ],
   "source": [
    "plt.boxplot(ferma_main['процент_белка'])\n",
    "plt.title('Гистограмма распределения данных')\n",
    "plt.xlabel('Значения')\n",
    "plt.ylabel('Частота');"
   ]
  },
  {
   "cell_type": "code",
   "execution_count": 238,
   "id": "cf0d6f59",
   "metadata": {},
   "outputs": [
    {
     "data": {
      "image/png": "[encoded data removed]",
      "text/plain": [
       "<Figure size 640x480 with 1 Axes>"
      ]
     },
     "metadata": {},
     "output_type": "display_data"
    }
   ],
   "source": [
    "plt.hist(ferma_main['процент_белка'], bins=15, edgecolor='black')\n",
    "plt.title('Гистограмма распределения данных')\n",
    "plt.xlabel('Значения')\n",
    "plt.ylabel('Частота');"
   ]
  },
  {
   "cell_type": "code",
   "execution_count": 240,
   "id": "e79a50ec",
   "metadata": {},
   "outputs": [
    {
     "data": {
      "image/png": "[encoded data removed]",
      "text/plain": [
       "<Figure size 640x480 with 1 Axes>"
      ]
     },
     "metadata": {},
     "output_type": "display_data"
    }
   ],
   "source": [
    "circle=ferma_main['вкус_молока'].value_counts(normalize=True)*100\n",
    "plt.pie(circle, labels=circle.index, autopct='%1.1f%%');"
   ]
  },
  {
   "cell_type": "code",
   "execution_count": 241,
   "id": "b6c756ff",
   "metadata": {},
   "outputs": [
    {
     "data": {
      "image/png": "[encoded data removed]",
      "text/plain": [
       "<Figure size 640x480 with 1 Axes>"
      ]
     },
     "metadata": {},
     "output_type": "display_data"
    }
   ],
   "source": [
    "circle=ferma_main['возраст'].value_counts(normalize=True)*100\n",
    "plt.pie(circle, labels=circle.index, autopct='%1.1f%%');"
   ]
  },
  {
   "cell_type": "markdown",
   "id": "f6b96f7e",
   "metadata": {},
   "source": [
    "<b>Нужно сделать:</b>\n",
    "\n",
    "    1) Поменять на графиках название\n",
    "    2) Добавить описание \n",
    "    3) Выводы дописать\n",
    "    4) Ну и начать делать Корреляцию"
   ]
  },
  {
   "cell_type": "markdown",
   "id": "4e81e621",
   "metadata": {},
   "source": [
    "## Корреляционный анализ"
   ]
  },
  {
   "cell_type": "code",
   "execution_count": null,
   "id": "6591835e",
   "metadata": {},
   "outputs": [],
   "source": []
  },
  {
   "cell_type": "markdown",
   "id": "b1a0869f",
   "metadata": {},
   "source": [
    "## Обучение модели линейной регрессии"
   ]
  },
  {
   "cell_type": "code",
   "execution_count": null,
   "id": "80ab3b75",
   "metadata": {},
   "outputs": [],
   "source": []
  },
  {
   "cell_type": "markdown",
   "id": "3f38e842",
   "metadata": {},
   "source": [
    "## Обучение модели логистической регрессии"
   ]
  },
  {
   "cell_type": "code",
   "execution_count": null,
   "id": "0b600ca9",
   "metadata": {},
   "outputs": [],
   "source": []
  },
  {
   "cell_type": "markdown",
   "id": "bfad7482",
   "metadata": {},
   "source": [
    "## Итоговые выводы"
   ]
  },
  {
   "cell_type": "code",
   "execution_count": null,
   "id": "a081f0a7",
   "metadata": {},
   "outputs": [],
   "source": []
  },
  {
   "cell_type": "code",
   "execution_count": null,
   "id": "105bbc1f",
   "metadata": {},
   "outputs": [],
   "source": []
  }
 ],
 "metadata": {
  "ExecuteTimeLog": [
   {
    "duration": 47,
    "start_time": "2024-06-03T16:04:23.876Z"
   },
   {
    "duration": 423,
    "start_time": "2024-06-03T16:04:25.913Z"
   },
   {
    "duration": 64,
    "start_time": "2024-06-03T16:04:27.576Z"
   },
   {
    "duration": 74,
    "start_time": "2024-06-03T16:08:40.512Z"
   },
   {
    "duration": 75,
    "start_time": "2024-06-03T16:08:49.490Z"
   },
   {
    "duration": 70,
    "start_time": "2024-06-03T16:09:15.606Z"
   },
   {
    "duration": 11,
    "start_time": "2024-06-03T16:11:24.891Z"
   },
   {
    "duration": 22,
    "start_time": "2024-06-03T16:11:43.726Z"
   },
   {
    "duration": 29,
    "start_time": "2024-06-03T16:15:38.367Z"
   },
   {
    "duration": 11,
    "start_time": "2024-06-03T16:15:40.464Z"
   },
   {
    "duration": 11,
    "start_time": "2024-06-03T16:15:44.333Z"
   },
   {
    "duration": 10,
    "start_time": "2024-06-03T16:16:14.239Z"
   },
   {
    "duration": 27,
    "start_time": "2024-06-03T16:16:23.560Z"
   },
   {
    "duration": 12,
    "start_time": "2024-06-03T16:16:26.211Z"
   },
   {
    "duration": 7,
    "start_time": "2024-06-03T16:16:46.301Z"
   },
   {
    "duration": 10,
    "start_time": "2024-06-03T16:17:04.635Z"
   },
   {
    "duration": 27,
    "start_time": "2024-06-03T16:17:12.196Z"
   },
   {
    "duration": 9,
    "start_time": "2024-06-03T16:17:16.559Z"
   },
   {
    "duration": 10,
    "start_time": "2024-06-03T16:17:29.930Z"
   },
   {
    "duration": 7,
    "start_time": "2024-06-03T16:36:44.115Z"
   },
   {
    "duration": 12,
    "start_time": "2024-06-03T16:37:54.756Z"
   },
   {
    "duration": 7,
    "start_time": "2024-06-03T16:37:56.991Z"
   },
   {
    "duration": 8,
    "start_time": "2024-06-03T16:38:06.807Z"
   },
   {
    "duration": 3,
    "start_time": "2024-06-03T16:41:46.350Z"
   },
   {
    "duration": 6,
    "start_time": "2024-06-03T16:41:49.176Z"
   },
   {
    "duration": 6,
    "start_time": "2024-06-03T16:44:43.867Z"
   },
   {
    "duration": 7,
    "start_time": "2024-06-03T16:44:45.818Z"
   },
   {
    "duration": 7,
    "start_time": "2024-06-03T16:45:13.618Z"
   },
   {
    "duration": 12,
    "start_time": "2024-06-03T16:49:18.911Z"
   },
   {
    "duration": 3,
    "start_time": "2024-06-03T16:49:55.432Z"
   },
   {
    "duration": 2,
    "start_time": "2024-06-03T16:54:00.867Z"
   },
   {
    "duration": 90,
    "start_time": "2024-06-03T17:02:50.910Z"
   },
   {
    "duration": 63,
    "start_time": "2024-06-03T18:32:10.698Z"
   },
   {
    "duration": 13,
    "start_time": "2024-06-03T18:57:32.763Z"
   },
   {
    "duration": 385,
    "start_time": "2024-06-04T15:30:33.152Z"
   },
   {
    "duration": 95,
    "start_time": "2024-06-04T15:30:33.539Z"
   },
   {
    "duration": 61,
    "start_time": "2024-06-04T15:30:33.635Z"
   },
   {
    "duration": 63,
    "start_time": "2024-06-04T15:30:33.697Z"
   },
   {
    "duration": 10,
    "start_time": "2024-06-04T15:30:33.761Z"
   },
   {
    "duration": 33,
    "start_time": "2024-06-04T15:30:33.772Z"
   },
   {
    "duration": 10,
    "start_time": "2024-06-04T15:30:33.806Z"
   },
   {
    "duration": 5,
    "start_time": "2024-06-04T15:30:33.817Z"
   },
   {
    "duration": 11,
    "start_time": "2024-06-04T15:30:33.823Z"
   },
   {
    "duration": 10,
    "start_time": "2024-06-04T15:30:33.836Z"
   },
   {
    "duration": 7,
    "start_time": "2024-06-04T15:30:33.847Z"
   },
   {
    "duration": 4,
    "start_time": "2024-06-04T15:30:33.855Z"
   },
   {
    "duration": 6,
    "start_time": "2024-06-04T15:30:33.860Z"
   },
   {
    "duration": 21,
    "start_time": "2024-06-04T15:30:33.867Z"
   },
   {
    "duration": 10,
    "start_time": "2024-06-04T15:30:33.889Z"
   }
  ],
  "kernelspec": {
   "display_name": "Python 3 (ipykernel)",
   "language": "python",
   "name": "python3"
  },
  "language_info": {
   "codemirror_mode": {
    "name": "ipython",
    "version": 3
   },
   "file_extension": ".py",
   "mimetype": "text/x-python",
   "name": "python",
   "nbconvert_exporter": "python",
   "pygments_lexer": "ipython3",
   "version": "3.9.18"
  },
  "toc": {
   "base_numbering": 1,
   "nav_menu": {},
   "number_sections": false,
   "sideBar": true,
   "skip_h1_title": false,
   "title_cell": "Table of Contents",
   "title_sidebar": "Contents",
   "toc_cell": false,
   "toc_position": {},
   "toc_section_display": true,
   "toc_window_display": false
  },
  "varInspector": {
   "cols": {
    "lenName": 16,
    "lenType": 16,
    "lenVar": 40
   },
   "kernels_config": {
    "python": {
     "delete_cmd_postfix": "",
     "delete_cmd_prefix": "del ",
     "library": "var_list.py",
     "varRefreshCmd": "print(var_dic_list())"
    },
    "r": {
     "delete_cmd_postfix": ") ",
     "delete_cmd_prefix": "rm(",
     "library": "var_list.r",
     "varRefreshCmd": "cat(var_dic_list()) "
    }
   },
   "types_to_exclude": [
    "module",
    "function",
    "builtin_function_or_method",
    "instance",
    "_Feature"
   ],
   "window_display": false
  }
 },
 "nbformat": 4,
 "nbformat_minor": 5
}
