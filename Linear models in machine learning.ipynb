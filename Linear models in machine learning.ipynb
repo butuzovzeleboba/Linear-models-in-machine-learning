{
 "cells": [
  {
   "cell_type": "markdown",
   "id": "defcd512",
   "metadata": {},
   "source": [
    "Загрузка библиотек"
   ]
  },
  {
   "cell_type": "code",
   "execution_count": 1,
   "id": "3d7dc051",
   "metadata": {},
   "outputs": [],
   "source": [
    "import pandas as pd"
   ]
  },
  {
   "cell_type": "markdown",
   "id": "9f270f1f",
   "metadata": {},
   "source": [
    "## Загрузка данных"
   ]
  },
  {
   "cell_type": "markdown",
   "id": "4a150265",
   "metadata": {},
   "source": [
    "Загрузка данных 'ferma_main.csv'"
   ]
  },
  {
   "cell_type": "code",
   "execution_count": 2,
   "id": "518c12d8",
   "metadata": {},
   "outputs": [],
   "source": [
    "ferma_main=pd.read_csv('/datasets/ferma_main.csv', delimiter=';')"
   ]
  },
  {
   "cell_type": "markdown",
   "id": "81ac6308",
   "metadata": {},
   "source": [
    "Загрузка данных 'ferma_dad.csv'"
   ]
  },
  {
   "cell_type": "code",
   "execution_count": 3,
   "id": "6ffba019",
   "metadata": {},
   "outputs": [],
   "source": [
    "ferma_dad=pd.read_csv('/datasets/ferma_dad.csv', delimiter=';')"
   ]
  },
  {
   "cell_type": "markdown",
   "id": "e18bbda2",
   "metadata": {},
   "source": [
    "Загрузка данных 'cow_buy.csv'"
   ]
  },
  {
   "cell_type": "code",
   "execution_count": 4,
   "id": "4bddea6a",
   "metadata": {},
   "outputs": [],
   "source": [
    "cow_buy=pd.read_csv('/datasets/cow_buy.csv', delimiter=';')"
   ]
  },
  {
   "cell_type": "markdown",
   "id": "d34bbcd3",
   "metadata": {},
   "source": [
    "##  Предобработка данных"
   ]
  },
  {
   "cell_type": "markdown",
   "id": "9f867765",
   "metadata": {},
   "source": [
    "Просмотр информации о данных ferma_main"
   ]
  },
  {
   "cell_type": "code",
   "execution_count": 5,
   "id": "19a750e4",
   "metadata": {},
   "outputs": [
    {
     "name": "stdout",
     "output_type": "stream",
     "text": [
      "<class 'pandas.core.frame.DataFrame'>\n",
      "RangeIndex: 634 entries, 0 to 633\n",
      "Data columns (total 12 columns):\n",
      " #   Column                                 Non-Null Count  Dtype \n",
      "---  ------                                 --------------  ----- \n",
      " 0   id                                     634 non-null    int64 \n",
      " 1   Удой, кг                               634 non-null    int64 \n",
      " 2   ЭКЕ (Энергетическая кормовая единица)  634 non-null    object\n",
      " 3   Сырой протеин, г                       634 non-null    int64 \n",
      " 4   СПО (Сахаро-протеиновое соотношение)   634 non-null    object\n",
      " 5   Порода                                 634 non-null    object\n",
      " 6   Тип пастбища                           634 non-null    object\n",
      " 7   порода папы_быка                       634 non-null    object\n",
      " 8   Жирность,%                             634 non-null    object\n",
      " 9   Белок,%                                634 non-null    object\n",
      " 10  Вкус молока                            634 non-null    object\n",
      " 11  Возраст                                634 non-null    object\n",
      "dtypes: int64(3), object(9)\n",
      "memory usage: 59.6+ KB\n"
     ]
    }
   ],
   "source": [
    "ferma_main.info()"
   ]
  },
  {
   "cell_type": "markdown",
   "id": "e7c470de",
   "metadata": {},
   "source": [
    "Просмотр первых пяти строк в ferma_main"
   ]
  },
  {
   "cell_type": "code",
   "execution_count": 6,
   "id": "42913ffa",
   "metadata": {},
   "outputs": [
    {
     "data": {
      "text/html": [
       "<div>\n",
       "<style scoped>\n",
       "    .dataframe tbody tr th:only-of-type {\n",
       "        vertical-align: middle;\n",
       "    }\n",
       "\n",
       "    .dataframe tbody tr th {\n",
       "        vertical-align: top;\n",
       "    }\n",
       "\n",
       "    .dataframe thead th {\n",
       "        text-align: right;\n",
       "    }\n",
       "</style>\n",
       "<table border=\"1\" class=\"dataframe\">\n",
       "  <thead>\n",
       "    <tr style=\"text-align: right;\">\n",
       "      <th></th>\n",
       "      <th>id</th>\n",
       "      <th>Удой, кг</th>\n",
       "      <th>ЭКЕ (Энергетическая кормовая единица)</th>\n",
       "      <th>Сырой протеин, г</th>\n",
       "      <th>СПО (Сахаро-протеиновое соотношение)</th>\n",
       "      <th>Порода</th>\n",
       "      <th>Тип пастбища</th>\n",
       "      <th>порода папы_быка</th>\n",
       "      <th>Жирность,%</th>\n",
       "      <th>Белок,%</th>\n",
       "      <th>Вкус молока</th>\n",
       "      <th>Возраст</th>\n",
       "    </tr>\n",
       "  </thead>\n",
       "  <tbody>\n",
       "    <tr>\n",
       "      <th>0</th>\n",
       "      <td>1</td>\n",
       "      <td>5863</td>\n",
       "      <td>14,2</td>\n",
       "      <td>1743</td>\n",
       "      <td>0,89</td>\n",
       "      <td>Вис Бик Айдиал</td>\n",
       "      <td>Равнинное</td>\n",
       "      <td>Айдиал</td>\n",
       "      <td>3,58</td>\n",
       "      <td>3,076</td>\n",
       "      <td>вкусно</td>\n",
       "      <td>более_2_лет</td>\n",
       "    </tr>\n",
       "    <tr>\n",
       "      <th>1</th>\n",
       "      <td>2</td>\n",
       "      <td>5529</td>\n",
       "      <td>12,8</td>\n",
       "      <td>2138</td>\n",
       "      <td>0,89</td>\n",
       "      <td>Вис Бик Айдиал</td>\n",
       "      <td>Равнинные</td>\n",
       "      <td>Соверин</td>\n",
       "      <td>3,54</td>\n",
       "      <td>3,079</td>\n",
       "      <td>вкусно</td>\n",
       "      <td>менее_2_лет</td>\n",
       "    </tr>\n",
       "    <tr>\n",
       "      <th>2</th>\n",
       "      <td>3</td>\n",
       "      <td>5810</td>\n",
       "      <td>14</td>\n",
       "      <td>1854</td>\n",
       "      <td>0,885</td>\n",
       "      <td>РефлешнСоверинг</td>\n",
       "      <td>Холмистое</td>\n",
       "      <td>Соверин</td>\n",
       "      <td>3,59</td>\n",
       "      <td>3,074</td>\n",
       "      <td>не вкусно</td>\n",
       "      <td>более_2_лет</td>\n",
       "    </tr>\n",
       "    <tr>\n",
       "      <th>3</th>\n",
       "      <td>4</td>\n",
       "      <td>5895</td>\n",
       "      <td>12,4</td>\n",
       "      <td>2012</td>\n",
       "      <td>0,885</td>\n",
       "      <td>РефлешнСоверинг</td>\n",
       "      <td>Холмистое</td>\n",
       "      <td>Айдиал</td>\n",
       "      <td>3,4</td>\n",
       "      <td>3,075</td>\n",
       "      <td>не вкусно</td>\n",
       "      <td>более_2_лет</td>\n",
       "    </tr>\n",
       "    <tr>\n",
       "      <th>4</th>\n",
       "      <td>5</td>\n",
       "      <td>5302</td>\n",
       "      <td>12,8</td>\n",
       "      <td>1675</td>\n",
       "      <td>0,885</td>\n",
       "      <td>Вис Бик Айдиал</td>\n",
       "      <td>Равнинные</td>\n",
       "      <td>Соверин</td>\n",
       "      <td>3,73</td>\n",
       "      <td>3,073</td>\n",
       "      <td>вкусно</td>\n",
       "      <td>менее_2_лет</td>\n",
       "    </tr>\n",
       "  </tbody>\n",
       "</table>\n",
       "</div>"
      ],
      "text/plain": [
       "   id  Удой, кг ЭКЕ (Энергетическая кормовая единица)  Сырой протеин, г  \\\n",
       "0   1      5863                                  14,2              1743   \n",
       "1   2      5529                                  12,8              2138   \n",
       "2   3      5810                                    14              1854   \n",
       "3   4      5895                                  12,4              2012   \n",
       "4   5      5302                                  12,8              1675   \n",
       "\n",
       "  СПО (Сахаро-протеиновое соотношение)           Порода Тип пастбища  \\\n",
       "0                                 0,89   Вис Бик Айдиал    Равнинное   \n",
       "1                                 0,89   Вис Бик Айдиал    Равнинные   \n",
       "2                                0,885  РефлешнСоверинг    Холмистое   \n",
       "3                                0,885  РефлешнСоверинг    Холмистое   \n",
       "4                                0,885   Вис Бик Айдиал    Равнинные   \n",
       "\n",
       "  порода папы_быка Жирность,% Белок,% Вкус молока      Возраст  \n",
       "0           Айдиал       3,58   3,076      вкусно  более_2_лет  \n",
       "1          Соверин       3,54   3,079      вкусно  менее_2_лет  \n",
       "2          Соверин       3,59   3,074   не вкусно  более_2_лет  \n",
       "3           Айдиал        3,4   3,075   не вкусно  более_2_лет  \n",
       "4          Соверин       3,73   3,073      вкусно  менее_2_лет  "
      ]
     },
     "execution_count": 6,
     "metadata": {},
     "output_type": "execute_result"
    }
   ],
   "source": [
    "ferma_main.head()"
   ]
  },
  {
   "cell_type": "markdown",
   "id": "e9e52402",
   "metadata": {},
   "source": [
    "По данным можно сразу сказать, что столбик id лишний, явных пропусков нет, тип обьектов нужно поменять"
   ]
  },
  {
   "cell_type": "markdown",
   "id": "1f18ba10",
   "metadata": {},
   "source": [
    "Просмотр последних пяти строк в ferma_main"
   ]
  },
  {
   "cell_type": "code",
   "execution_count": 7,
   "id": "52c48dc5",
   "metadata": {},
   "outputs": [
    {
     "data": {
      "text/html": [
       "<div>\n",
       "<style scoped>\n",
       "    .dataframe tbody tr th:only-of-type {\n",
       "        vertical-align: middle;\n",
       "    }\n",
       "\n",
       "    .dataframe tbody tr th {\n",
       "        vertical-align: top;\n",
       "    }\n",
       "\n",
       "    .dataframe thead th {\n",
       "        text-align: right;\n",
       "    }\n",
       "</style>\n",
       "<table border=\"1\" class=\"dataframe\">\n",
       "  <thead>\n",
       "    <tr style=\"text-align: right;\">\n",
       "      <th></th>\n",
       "      <th>id</th>\n",
       "      <th>Удой, кг</th>\n",
       "      <th>ЭКЕ (Энергетическая кормовая единица)</th>\n",
       "      <th>Сырой протеин, г</th>\n",
       "      <th>СПО (Сахаро-протеиновое соотношение)</th>\n",
       "      <th>Порода</th>\n",
       "      <th>Тип пастбища</th>\n",
       "      <th>порода папы_быка</th>\n",
       "      <th>Жирность,%</th>\n",
       "      <th>Белок,%</th>\n",
       "      <th>Вкус молока</th>\n",
       "      <th>Возраст</th>\n",
       "    </tr>\n",
       "  </thead>\n",
       "  <tbody>\n",
       "    <tr>\n",
       "      <th>629</th>\n",
       "      <td>627</td>\n",
       "      <td>5970</td>\n",
       "      <td>14,4</td>\n",
       "      <td>1837</td>\n",
       "      <td>0,88</td>\n",
       "      <td>РефлешнСоверинг</td>\n",
       "      <td>Холмистое</td>\n",
       "      <td>Соверин</td>\n",
       "      <td>3,64</td>\n",
       "      <td>3,075</td>\n",
       "      <td>не вкусно</td>\n",
       "      <td>более_2_лет</td>\n",
       "    </tr>\n",
       "    <tr>\n",
       "      <th>630</th>\n",
       "      <td>627</td>\n",
       "      <td>5970</td>\n",
       "      <td>14,4</td>\n",
       "      <td>1837</td>\n",
       "      <td>0,88</td>\n",
       "      <td>РефлешнСоверинг</td>\n",
       "      <td>Холмистое</td>\n",
       "      <td>Соверин</td>\n",
       "      <td>3,64</td>\n",
       "      <td>3,075</td>\n",
       "      <td>не вкусно</td>\n",
       "      <td>более_2_лет</td>\n",
       "    </tr>\n",
       "    <tr>\n",
       "      <th>631</th>\n",
       "      <td>627</td>\n",
       "      <td>5970</td>\n",
       "      <td>14,4</td>\n",
       "      <td>1837</td>\n",
       "      <td>0,88</td>\n",
       "      <td>РефлешнСоверинг</td>\n",
       "      <td>Холмистое</td>\n",
       "      <td>Соверин</td>\n",
       "      <td>3,64</td>\n",
       "      <td>3,075</td>\n",
       "      <td>не вкусно</td>\n",
       "      <td>более_2_лет</td>\n",
       "    </tr>\n",
       "    <tr>\n",
       "      <th>632</th>\n",
       "      <td>627</td>\n",
       "      <td>5970</td>\n",
       "      <td>14,4</td>\n",
       "      <td>1837</td>\n",
       "      <td>0,88</td>\n",
       "      <td>РефлешнСоверинг</td>\n",
       "      <td>Холмистое</td>\n",
       "      <td>Соверин</td>\n",
       "      <td>3,64</td>\n",
       "      <td>3,075</td>\n",
       "      <td>не вкусно</td>\n",
       "      <td>более_2_лет</td>\n",
       "    </tr>\n",
       "    <tr>\n",
       "      <th>633</th>\n",
       "      <td>627</td>\n",
       "      <td>5970</td>\n",
       "      <td>14,4</td>\n",
       "      <td>1837</td>\n",
       "      <td>0,88</td>\n",
       "      <td>РефлешнСоверинг</td>\n",
       "      <td>Холмистое</td>\n",
       "      <td>Соверин</td>\n",
       "      <td>3,64</td>\n",
       "      <td>3,075</td>\n",
       "      <td>не вкусно</td>\n",
       "      <td>более_2_лет</td>\n",
       "    </tr>\n",
       "  </tbody>\n",
       "</table>\n",
       "</div>"
      ],
      "text/plain": [
       "      id  Удой, кг ЭКЕ (Энергетическая кормовая единица)  Сырой протеин, г  \\\n",
       "629  627      5970                                  14,4              1837   \n",
       "630  627      5970                                  14,4              1837   \n",
       "631  627      5970                                  14,4              1837   \n",
       "632  627      5970                                  14,4              1837   \n",
       "633  627      5970                                  14,4              1837   \n",
       "\n",
       "    СПО (Сахаро-протеиновое соотношение)           Порода Тип пастбища  \\\n",
       "629                                 0,88  РефлешнСоверинг    Холмистое   \n",
       "630                                 0,88  РефлешнСоверинг    Холмистое   \n",
       "631                                 0,88  РефлешнСоверинг    Холмистое   \n",
       "632                                 0,88  РефлешнСоверинг    Холмистое   \n",
       "633                                 0,88  РефлешнСоверинг    Холмистое   \n",
       "\n",
       "    порода папы_быка Жирность,% Белок,% Вкус молока      Возраст  \n",
       "629          Соверин       3,64   3,075   не вкусно  более_2_лет  \n",
       "630          Соверин       3,64   3,075   не вкусно  более_2_лет  \n",
       "631          Соверин       3,64   3,075   не вкусно  более_2_лет  \n",
       "632          Соверин       3,64   3,075   не вкусно  более_2_лет  \n",
       "633          Соверин       3,64   3,075   не вкусно  более_2_лет  "
      ]
     },
     "execution_count": 7,
     "metadata": {},
     "output_type": "execute_result"
    }
   ],
   "source": [
    "ferma_main.tail()"
   ]
  },
  {
   "cell_type": "markdown",
   "id": "d301d8f0",
   "metadata": {},
   "source": [
    "Удаление столбца 'id' из данных"
   ]
  },
  {
   "cell_type": "code",
   "execution_count": 8,
   "id": "f7bc1a72",
   "metadata": {},
   "outputs": [],
   "source": [
    "ferma_main.drop(columns=['id'], inplace=True)"
   ]
  },
  {
   "cell_type": "markdown",
   "id": "4c583b1f",
   "metadata": {},
   "source": [
    "Просмотр информации о данных ferma_dad"
   ]
  },
  {
   "cell_type": "code",
   "execution_count": 9,
   "id": "aa3a46a6",
   "metadata": {},
   "outputs": [
    {
     "name": "stdout",
     "output_type": "stream",
     "text": [
      "<class 'pandas.core.frame.DataFrame'>\n",
      "RangeIndex: 629 entries, 0 to 628\n",
      "Data columns (total 2 columns):\n",
      " #   Column    Non-Null Count  Dtype \n",
      "---  ------    --------------  ----- \n",
      " 0   id        629 non-null    int64 \n",
      " 1   Имя Папы  629 non-null    object\n",
      "dtypes: int64(1), object(1)\n",
      "memory usage: 10.0+ KB\n"
     ]
    }
   ],
   "source": [
    "ferma_dad.info()"
   ]
  },
  {
   "cell_type": "markdown",
   "id": "0d5236f6",
   "metadata": {},
   "source": [
    "По данным можно сразу сказать, строк меньше чем в предыдущем датафрейме, явных пропусков нет, столбик id нужно удалить"
   ]
  },
  {
   "cell_type": "markdown",
   "id": "c0d5ae15",
   "metadata": {},
   "source": [
    "Просмотр первых пяти строк в ferma_dad"
   ]
  },
  {
   "cell_type": "code",
   "execution_count": 10,
   "id": "fc84c5ae",
   "metadata": {},
   "outputs": [
    {
     "data": {
      "text/html": [
       "<div>\n",
       "<style scoped>\n",
       "    .dataframe tbody tr th:only-of-type {\n",
       "        vertical-align: middle;\n",
       "    }\n",
       "\n",
       "    .dataframe tbody tr th {\n",
       "        vertical-align: top;\n",
       "    }\n",
       "\n",
       "    .dataframe thead th {\n",
       "        text-align: right;\n",
       "    }\n",
       "</style>\n",
       "<table border=\"1\" class=\"dataframe\">\n",
       "  <thead>\n",
       "    <tr style=\"text-align: right;\">\n",
       "      <th></th>\n",
       "      <th>id</th>\n",
       "      <th>Имя Папы</th>\n",
       "    </tr>\n",
       "  </thead>\n",
       "  <tbody>\n",
       "    <tr>\n",
       "      <th>0</th>\n",
       "      <td>1</td>\n",
       "      <td>Буйный</td>\n",
       "    </tr>\n",
       "    <tr>\n",
       "      <th>1</th>\n",
       "      <td>2</td>\n",
       "      <td>Соловчик</td>\n",
       "    </tr>\n",
       "    <tr>\n",
       "      <th>2</th>\n",
       "      <td>3</td>\n",
       "      <td>Барин</td>\n",
       "    </tr>\n",
       "    <tr>\n",
       "      <th>3</th>\n",
       "      <td>4</td>\n",
       "      <td>Буйный</td>\n",
       "    </tr>\n",
       "    <tr>\n",
       "      <th>4</th>\n",
       "      <td>5</td>\n",
       "      <td>Барин</td>\n",
       "    </tr>\n",
       "  </tbody>\n",
       "</table>\n",
       "</div>"
      ],
      "text/plain": [
       "   id  Имя Папы\n",
       "0   1    Буйный\n",
       "1   2  Соловчик\n",
       "2   3     Барин\n",
       "3   4    Буйный\n",
       "4   5     Барин"
      ]
     },
     "execution_count": 10,
     "metadata": {},
     "output_type": "execute_result"
    }
   ],
   "source": [
    "ferma_dad.head()"
   ]
  },
  {
   "cell_type": "markdown",
   "id": "454c3961",
   "metadata": {},
   "source": [
    "Просмотр последних пяти строк в ferma_dad"
   ]
  },
  {
   "cell_type": "code",
   "execution_count": 11,
   "id": "8acc3d0f",
   "metadata": {},
   "outputs": [
    {
     "data": {
      "text/html": [
       "<div>\n",
       "<style scoped>\n",
       "    .dataframe tbody tr th:only-of-type {\n",
       "        vertical-align: middle;\n",
       "    }\n",
       "\n",
       "    .dataframe tbody tr th {\n",
       "        vertical-align: top;\n",
       "    }\n",
       "\n",
       "    .dataframe thead th {\n",
       "        text-align: right;\n",
       "    }\n",
       "</style>\n",
       "<table border=\"1\" class=\"dataframe\">\n",
       "  <thead>\n",
       "    <tr style=\"text-align: right;\">\n",
       "      <th></th>\n",
       "      <th>id</th>\n",
       "      <th>Имя Папы</th>\n",
       "    </tr>\n",
       "  </thead>\n",
       "  <tbody>\n",
       "    <tr>\n",
       "      <th>624</th>\n",
       "      <td>625</td>\n",
       "      <td>Буйный</td>\n",
       "    </tr>\n",
       "    <tr>\n",
       "      <th>625</th>\n",
       "      <td>626</td>\n",
       "      <td>Барин</td>\n",
       "    </tr>\n",
       "    <tr>\n",
       "      <th>626</th>\n",
       "      <td>627</td>\n",
       "      <td>Барин</td>\n",
       "    </tr>\n",
       "    <tr>\n",
       "      <th>627</th>\n",
       "      <td>628</td>\n",
       "      <td>Барин</td>\n",
       "    </tr>\n",
       "    <tr>\n",
       "      <th>628</th>\n",
       "      <td>629</td>\n",
       "      <td>Соловчик</td>\n",
       "    </tr>\n",
       "  </tbody>\n",
       "</table>\n",
       "</div>"
      ],
      "text/plain": [
       "      id  Имя Папы\n",
       "624  625    Буйный\n",
       "625  626     Барин\n",
       "626  627     Барин\n",
       "627  628     Барин\n",
       "628  629  Соловчик"
      ]
     },
     "execution_count": 11,
     "metadata": {},
     "output_type": "execute_result"
    }
   ],
   "source": [
    "ferma_dad.tail()"
   ]
  },
  {
   "cell_type": "markdown",
   "id": "76b3304f",
   "metadata": {},
   "source": [
    "Удаление столбика 'id'"
   ]
  },
  {
   "cell_type": "code",
   "execution_count": 12,
   "id": "3ddacf6c",
   "metadata": {},
   "outputs": [],
   "source": [
    "ferma_dad.drop(columns=['id'], inplace=True)"
   ]
  },
  {
   "cell_type": "markdown",
   "id": "cc59391f",
   "metadata": {},
   "source": [
    "Проверка"
   ]
  },
  {
   "cell_type": "code",
   "execution_count": 13,
   "id": "9afabd0b",
   "metadata": {},
   "outputs": [
    {
     "data": {
      "text/html": [
       "<div>\n",
       "<style scoped>\n",
       "    .dataframe tbody tr th:only-of-type {\n",
       "        vertical-align: middle;\n",
       "    }\n",
       "\n",
       "    .dataframe tbody tr th {\n",
       "        vertical-align: top;\n",
       "    }\n",
       "\n",
       "    .dataframe thead th {\n",
       "        text-align: right;\n",
       "    }\n",
       "</style>\n",
       "<table border=\"1\" class=\"dataframe\">\n",
       "  <thead>\n",
       "    <tr style=\"text-align: right;\">\n",
       "      <th></th>\n",
       "      <th>Имя Папы</th>\n",
       "    </tr>\n",
       "  </thead>\n",
       "  <tbody>\n",
       "    <tr>\n",
       "      <th>0</th>\n",
       "      <td>Буйный</td>\n",
       "    </tr>\n",
       "    <tr>\n",
       "      <th>1</th>\n",
       "      <td>Соловчик</td>\n",
       "    </tr>\n",
       "    <tr>\n",
       "      <th>2</th>\n",
       "      <td>Барин</td>\n",
       "    </tr>\n",
       "    <tr>\n",
       "      <th>3</th>\n",
       "      <td>Буйный</td>\n",
       "    </tr>\n",
       "    <tr>\n",
       "      <th>4</th>\n",
       "      <td>Барин</td>\n",
       "    </tr>\n",
       "  </tbody>\n",
       "</table>\n",
       "</div>"
      ],
      "text/plain": [
       "   Имя Папы\n",
       "0    Буйный\n",
       "1  Соловчик\n",
       "2     Барин\n",
       "3    Буйный\n",
       "4     Барин"
      ]
     },
     "execution_count": 13,
     "metadata": {},
     "output_type": "execute_result"
    }
   ],
   "source": [
    "ferma_dad.head()"
   ]
  },
  {
   "cell_type": "markdown",
   "id": "0a81534a",
   "metadata": {},
   "source": [
    "Просмотр информации о данных cow_buy"
   ]
  },
  {
   "cell_type": "code",
   "execution_count": 14,
   "id": "2aa93995",
   "metadata": {},
   "outputs": [
    {
     "name": "stdout",
     "output_type": "stream",
     "text": [
      "<class 'pandas.core.frame.DataFrame'>\n",
      "RangeIndex: 20 entries, 0 to 19\n",
      "Data columns (total 7 columns):\n",
      " #   Column                   Non-Null Count  Dtype \n",
      "---  ------                   --------------  ----- \n",
      " 0   Порода                   20 non-null     object\n",
      " 1   Тип пастбища             20 non-null     object\n",
      " 2   порода папы_быка         20 non-null     object\n",
      " 3   Имя_папы                 20 non-null     object\n",
      " 4   Текущая_жирность,%       20 non-null     object\n",
      " 5   Текущий_уровень_белок,%  20 non-null     object\n",
      " 6   Возраст                  20 non-null     object\n",
      "dtypes: object(7)\n",
      "memory usage: 1.2+ KB\n"
     ]
    }
   ],
   "source": [
    "cow_buy.info()"
   ]
  },
  {
   "cell_type": "markdown",
   "id": "7d948a8b",
   "metadata": {},
   "source": [
    "По данным можно сразу сказать, что строк гораздо меньше чем в предыдущих данных, тип обьектов нужно поменять"
   ]
  },
  {
   "cell_type": "markdown",
   "id": "3039ad61",
   "metadata": {},
   "source": [
    "Вывод всех строк cow_buy"
   ]
  },
  {
   "cell_type": "code",
   "execution_count": 15,
   "id": "75e67377",
   "metadata": {},
   "outputs": [
    {
     "data": {
      "text/html": [
       "<div>\n",
       "<style scoped>\n",
       "    .dataframe tbody tr th:only-of-type {\n",
       "        vertical-align: middle;\n",
       "    }\n",
       "\n",
       "    .dataframe tbody tr th {\n",
       "        vertical-align: top;\n",
       "    }\n",
       "\n",
       "    .dataframe thead th {\n",
       "        text-align: right;\n",
       "    }\n",
       "</style>\n",
       "<table border=\"1\" class=\"dataframe\">\n",
       "  <thead>\n",
       "    <tr style=\"text-align: right;\">\n",
       "      <th></th>\n",
       "      <th>Порода</th>\n",
       "      <th>Тип пастбища</th>\n",
       "      <th>порода папы_быка</th>\n",
       "      <th>Имя_папы</th>\n",
       "      <th>Текущая_жирность,%</th>\n",
       "      <th>Текущий_уровень_белок,%</th>\n",
       "      <th>Возраст</th>\n",
       "    </tr>\n",
       "  </thead>\n",
       "  <tbody>\n",
       "    <tr>\n",
       "      <th>0</th>\n",
       "      <td>Вис Бик Айдиал</td>\n",
       "      <td>холмистое</td>\n",
       "      <td>Айдиал</td>\n",
       "      <td>Геркулес</td>\n",
       "      <td>3,58</td>\n",
       "      <td>3,076</td>\n",
       "      <td>более_2_лет</td>\n",
       "    </tr>\n",
       "    <tr>\n",
       "      <th>1</th>\n",
       "      <td>Вис Бик Айдиал</td>\n",
       "      <td>равнинное</td>\n",
       "      <td>Соверин</td>\n",
       "      <td>Буйный</td>\n",
       "      <td>3,54</td>\n",
       "      <td>3,081</td>\n",
       "      <td>менее_2_лет</td>\n",
       "    </tr>\n",
       "    <tr>\n",
       "      <th>2</th>\n",
       "      <td>РефлешнСоверинг</td>\n",
       "      <td>равнинное</td>\n",
       "      <td>Соверин</td>\n",
       "      <td>Барин</td>\n",
       "      <td>3,59</td>\n",
       "      <td>3,074</td>\n",
       "      <td>более_2_лет</td>\n",
       "    </tr>\n",
       "    <tr>\n",
       "      <th>3</th>\n",
       "      <td>РефлешнСоверинг</td>\n",
       "      <td>холмистое</td>\n",
       "      <td>Айдиал</td>\n",
       "      <td>Буйный</td>\n",
       "      <td>3,4</td>\n",
       "      <td>3,061</td>\n",
       "      <td>более_2_лет</td>\n",
       "    </tr>\n",
       "    <tr>\n",
       "      <th>4</th>\n",
       "      <td>РефлешнСоверинг</td>\n",
       "      <td>равнинное</td>\n",
       "      <td>Айдиал</td>\n",
       "      <td>Буйный</td>\n",
       "      <td>3,64</td>\n",
       "      <td>3,074</td>\n",
       "      <td>более_2_лет</td>\n",
       "    </tr>\n",
       "    <tr>\n",
       "      <th>5</th>\n",
       "      <td>РефлешнСоверинг</td>\n",
       "      <td>равнинное</td>\n",
       "      <td>Соверин</td>\n",
       "      <td>Геркулес</td>\n",
       "      <td>3,63</td>\n",
       "      <td>3,053</td>\n",
       "      <td>менее_2_лет</td>\n",
       "    </tr>\n",
       "    <tr>\n",
       "      <th>6</th>\n",
       "      <td>Вис Бик Айдиал</td>\n",
       "      <td>холмистое</td>\n",
       "      <td>Айдиал</td>\n",
       "      <td>Геркулес</td>\n",
       "      <td>3,58</td>\n",
       "      <td>3,076</td>\n",
       "      <td>более_2_лет</td>\n",
       "    </tr>\n",
       "    <tr>\n",
       "      <th>7</th>\n",
       "      <td>Вис Бик Айдиал</td>\n",
       "      <td>равнинное</td>\n",
       "      <td>Соверин</td>\n",
       "      <td>Буйный</td>\n",
       "      <td>3,57</td>\n",
       "      <td>3,079</td>\n",
       "      <td>более_2_лет</td>\n",
       "    </tr>\n",
       "    <tr>\n",
       "      <th>8</th>\n",
       "      <td>РефлешнСоверинг</td>\n",
       "      <td>равнинное</td>\n",
       "      <td>Соверин</td>\n",
       "      <td>Барин</td>\n",
       "      <td>3,59</td>\n",
       "      <td>3,074</td>\n",
       "      <td>более_2_лет</td>\n",
       "    </tr>\n",
       "    <tr>\n",
       "      <th>9</th>\n",
       "      <td>РефлешнСоверинг</td>\n",
       "      <td>холмистое</td>\n",
       "      <td>Айдиал</td>\n",
       "      <td>Буйный</td>\n",
       "      <td>3,4</td>\n",
       "      <td>3,079</td>\n",
       "      <td>менее_2_лет</td>\n",
       "    </tr>\n",
       "    <tr>\n",
       "      <th>10</th>\n",
       "      <td>Вис Бик Айдиал</td>\n",
       "      <td>холмистое</td>\n",
       "      <td>Соверин</td>\n",
       "      <td>Соловчик</td>\n",
       "      <td>3,73</td>\n",
       "      <td>3,055</td>\n",
       "      <td>более_2_лет</td>\n",
       "    </tr>\n",
       "    <tr>\n",
       "      <th>11</th>\n",
       "      <td>РефлешнСоверинг</td>\n",
       "      <td>равнинное</td>\n",
       "      <td>Соверин</td>\n",
       "      <td>Геркулес</td>\n",
       "      <td>3,73</td>\n",
       "      <td>3,073</td>\n",
       "      <td>более_2_лет</td>\n",
       "    </tr>\n",
       "    <tr>\n",
       "      <th>12</th>\n",
       "      <td>Вис Бик Айдиал</td>\n",
       "      <td>холмистое</td>\n",
       "      <td>Айдиал</td>\n",
       "      <td>Геркулес</td>\n",
       "      <td>3,68</td>\n",
       "      <td>3,046</td>\n",
       "      <td>более_2_лет</td>\n",
       "    </tr>\n",
       "    <tr>\n",
       "      <th>13</th>\n",
       "      <td>Вис Бик Айдиал</td>\n",
       "      <td>холмистое</td>\n",
       "      <td>Соверин</td>\n",
       "      <td>Барин</td>\n",
       "      <td>3,42</td>\n",
       "      <td>3,075</td>\n",
       "      <td>менее_2_лет</td>\n",
       "    </tr>\n",
       "    <tr>\n",
       "      <th>14</th>\n",
       "      <td>РефлешнСоверинг</td>\n",
       "      <td>равнинное</td>\n",
       "      <td>Соверин</td>\n",
       "      <td>Барин</td>\n",
       "      <td>3,59</td>\n",
       "      <td>3,074</td>\n",
       "      <td>более_2_лет</td>\n",
       "    </tr>\n",
       "    <tr>\n",
       "      <th>15</th>\n",
       "      <td>РефлешнСоверинг</td>\n",
       "      <td>холмистое</td>\n",
       "      <td>Айдиал</td>\n",
       "      <td>Буйный</td>\n",
       "      <td>3,4</td>\n",
       "      <td>3,065</td>\n",
       "      <td>более_2_лет</td>\n",
       "    </tr>\n",
       "    <tr>\n",
       "      <th>16</th>\n",
       "      <td>Вис Бик Айдиал</td>\n",
       "      <td>холмистое</td>\n",
       "      <td>Соверин</td>\n",
       "      <td>Соловчик</td>\n",
       "      <td>3,73</td>\n",
       "      <td>3,079</td>\n",
       "      <td>более_2_лет</td>\n",
       "    </tr>\n",
       "    <tr>\n",
       "      <th>17</th>\n",
       "      <td>РефлешнСоверинг</td>\n",
       "      <td>равнинное</td>\n",
       "      <td>Соверин</td>\n",
       "      <td>Геркулес</td>\n",
       "      <td>3,77</td>\n",
       "      <td>3,053</td>\n",
       "      <td>менее_2_лет</td>\n",
       "    </tr>\n",
       "    <tr>\n",
       "      <th>18</th>\n",
       "      <td>Вис Бик Айдиал</td>\n",
       "      <td>равнинное</td>\n",
       "      <td>Соверин</td>\n",
       "      <td>Буйный</td>\n",
       "      <td>3,34</td>\n",
       "      <td>3,069</td>\n",
       "      <td>более_2_лет</td>\n",
       "    </tr>\n",
       "    <tr>\n",
       "      <th>19</th>\n",
       "      <td>РефлешнСоверинг</td>\n",
       "      <td>равнинное</td>\n",
       "      <td>Айдиал</td>\n",
       "      <td>Буйный</td>\n",
       "      <td>3,64</td>\n",
       "      <td>3,074</td>\n",
       "      <td>более_2_лет</td>\n",
       "    </tr>\n",
       "  </tbody>\n",
       "</table>\n",
       "</div>"
      ],
      "text/plain": [
       "             Порода Тип пастбища порода папы_быка  Имя_папы  \\\n",
       "0    Вис Бик Айдиал    холмистое           Айдиал  Геркулес   \n",
       "1    Вис Бик Айдиал    равнинное          Соверин    Буйный   \n",
       "2   РефлешнСоверинг    равнинное          Соверин     Барин   \n",
       "3   РефлешнСоверинг    холмистое           Айдиал    Буйный   \n",
       "4   РефлешнСоверинг    равнинное           Айдиал    Буйный   \n",
       "5   РефлешнСоверинг    равнинное          Соверин  Геркулес   \n",
       "6    Вис Бик Айдиал    холмистое           Айдиал  Геркулес   \n",
       "7    Вис Бик Айдиал    равнинное          Соверин    Буйный   \n",
       "8   РефлешнСоверинг    равнинное          Соверин     Барин   \n",
       "9   РефлешнСоверинг    холмистое           Айдиал    Буйный   \n",
       "10   Вис Бик Айдиал    холмистое          Соверин  Соловчик   \n",
       "11  РефлешнСоверинг    равнинное          Соверин  Геркулес   \n",
       "12   Вис Бик Айдиал    холмистое           Айдиал  Геркулес   \n",
       "13   Вис Бик Айдиал    холмистое          Соверин     Барин   \n",
       "14  РефлешнСоверинг    равнинное          Соверин     Барин   \n",
       "15  РефлешнСоверинг    холмистое           Айдиал    Буйный   \n",
       "16   Вис Бик Айдиал    холмистое          Соверин  Соловчик   \n",
       "17  РефлешнСоверинг    равнинное          Соверин  Геркулес   \n",
       "18   Вис Бик Айдиал    равнинное          Соверин    Буйный   \n",
       "19  РефлешнСоверинг    равнинное           Айдиал    Буйный   \n",
       "\n",
       "   Текущая_жирность,% Текущий_уровень_белок,%      Возраст  \n",
       "0                3,58                   3,076  более_2_лет  \n",
       "1                3,54                   3,081  менее_2_лет  \n",
       "2                3,59                   3,074  более_2_лет  \n",
       "3                 3,4                   3,061  более_2_лет  \n",
       "4                3,64                   3,074  более_2_лет  \n",
       "5                3,63                   3,053  менее_2_лет  \n",
       "6                3,58                   3,076  более_2_лет  \n",
       "7                3,57                   3,079  более_2_лет  \n",
       "8                3,59                   3,074  более_2_лет  \n",
       "9                 3,4                   3,079  менее_2_лет  \n",
       "10               3,73                   3,055  более_2_лет  \n",
       "11               3,73                   3,073  более_2_лет  \n",
       "12               3,68                   3,046  более_2_лет  \n",
       "13               3,42                   3,075  менее_2_лет  \n",
       "14               3,59                   3,074  более_2_лет  \n",
       "15                3,4                   3,065  более_2_лет  \n",
       "16               3,73                   3,079  более_2_лет  \n",
       "17               3,77                   3,053  менее_2_лет  \n",
       "18               3,34                   3,069  более_2_лет  \n",
       "19               3,64                   3,074  более_2_лет  "
      ]
     },
     "execution_count": 15,
     "metadata": {},
     "output_type": "execute_result"
    }
   ],
   "source": [
    "cow_buy"
   ]
  },
  {
   "cell_type": "markdown",
   "id": "7ce171a6",
   "metadata": {},
   "source": [
    "## Исследовательский анализ данных"
   ]
  },
  {
   "cell_type": "code",
   "execution_count": null,
   "id": "774b6588",
   "metadata": {},
   "outputs": [],
   "source": []
  },
  {
   "cell_type": "markdown",
   "id": "4e81e621",
   "metadata": {},
   "source": [
    "## Корреляционный анализ"
   ]
  },
  {
   "cell_type": "code",
   "execution_count": null,
   "id": "6591835e",
   "metadata": {},
   "outputs": [],
   "source": []
  },
  {
   "cell_type": "markdown",
   "id": "b1a0869f",
   "metadata": {},
   "source": [
    "## Обучение модели линейной регрессии"
   ]
  },
  {
   "cell_type": "code",
   "execution_count": null,
   "id": "80ab3b75",
   "metadata": {},
   "outputs": [],
   "source": []
  },
  {
   "cell_type": "markdown",
   "id": "3f38e842",
   "metadata": {},
   "source": [
    "## Обучение модели логистической регрессии"
   ]
  },
  {
   "cell_type": "code",
   "execution_count": null,
   "id": "0b600ca9",
   "metadata": {},
   "outputs": [],
   "source": []
  },
  {
   "cell_type": "markdown",
   "id": "bfad7482",
   "metadata": {},
   "source": [
    "## Итоговые выводы"
   ]
  },
  {
   "cell_type": "code",
   "execution_count": null,
   "id": "a081f0a7",
   "metadata": {},
   "outputs": [],
   "source": []
  },
  {
   "cell_type": "code",
   "execution_count": null,
   "id": "105bbc1f",
   "metadata": {},
   "outputs": [],
   "source": []
  }
 ],
 "metadata": {
  "ExecuteTimeLog": [
   {
    "duration": 47,
    "start_time": "2024-06-03T16:04:23.876Z"
   },
   {
    "duration": 423,
    "start_time": "2024-06-03T16:04:25.913Z"
   },
   {
    "duration": 64,
    "start_time": "2024-06-03T16:04:27.576Z"
   },
   {
    "duration": 74,
    "start_time": "2024-06-03T16:08:40.512Z"
   },
   {
    "duration": 75,
    "start_time": "2024-06-03T16:08:49.490Z"
   },
   {
    "duration": 70,
    "start_time": "2024-06-03T16:09:15.606Z"
   },
   {
    "duration": 11,
    "start_time": "2024-06-03T16:11:24.891Z"
   },
   {
    "duration": 22,
    "start_time": "2024-06-03T16:11:43.726Z"
   },
   {
    "duration": 29,
    "start_time": "2024-06-03T16:15:38.367Z"
   },
   {
    "duration": 11,
    "start_time": "2024-06-03T16:15:40.464Z"
   },
   {
    "duration": 11,
    "start_time": "2024-06-03T16:15:44.333Z"
   },
   {
    "duration": 10,
    "start_time": "2024-06-03T16:16:14.239Z"
   },
   {
    "duration": 27,
    "start_time": "2024-06-03T16:16:23.560Z"
   },
   {
    "duration": 12,
    "start_time": "2024-06-03T16:16:26.211Z"
   },
   {
    "duration": 7,
    "start_time": "2024-06-03T16:16:46.301Z"
   },
   {
    "duration": 10,
    "start_time": "2024-06-03T16:17:04.635Z"
   },
   {
    "duration": 27,
    "start_time": "2024-06-03T16:17:12.196Z"
   },
   {
    "duration": 9,
    "start_time": "2024-06-03T16:17:16.559Z"
   },
   {
    "duration": 10,
    "start_time": "2024-06-03T16:17:29.930Z"
   },
   {
    "duration": 7,
    "start_time": "2024-06-03T16:36:44.115Z"
   },
   {
    "duration": 12,
    "start_time": "2024-06-03T16:37:54.756Z"
   },
   {
    "duration": 7,
    "start_time": "2024-06-03T16:37:56.991Z"
   },
   {
    "duration": 8,
    "start_time": "2024-06-03T16:38:06.807Z"
   },
   {
    "duration": 3,
    "start_time": "2024-06-03T16:41:46.350Z"
   },
   {
    "duration": 6,
    "start_time": "2024-06-03T16:41:49.176Z"
   },
   {
    "duration": 6,
    "start_time": "2024-06-03T16:44:43.867Z"
   },
   {
    "duration": 7,
    "start_time": "2024-06-03T16:44:45.818Z"
   },
   {
    "duration": 7,
    "start_time": "2024-06-03T16:45:13.618Z"
   },
   {
    "duration": 12,
    "start_time": "2024-06-03T16:49:18.911Z"
   },
   {
    "duration": 3,
    "start_time": "2024-06-03T16:49:55.432Z"
   },
   {
    "duration": 2,
    "start_time": "2024-06-03T16:54:00.867Z"
   },
   {
    "duration": 90,
    "start_time": "2024-06-03T17:02:50.910Z"
   },
   {
    "duration": 63,
    "start_time": "2024-06-03T18:32:10.698Z"
   },
   {
    "duration": 13,
    "start_time": "2024-06-03T18:57:32.763Z"
   },
   {
    "duration": 385,
    "start_time": "2024-06-04T15:30:33.152Z"
   },
   {
    "duration": 95,
    "start_time": "2024-06-04T15:30:33.539Z"
   },
   {
    "duration": 61,
    "start_time": "2024-06-04T15:30:33.635Z"
   },
   {
    "duration": 63,
    "start_time": "2024-06-04T15:30:33.697Z"
   },
   {
    "duration": 10,
    "start_time": "2024-06-04T15:30:33.761Z"
   },
   {
    "duration": 33,
    "start_time": "2024-06-04T15:30:33.772Z"
   },
   {
    "duration": 10,
    "start_time": "2024-06-04T15:30:33.806Z"
   },
   {
    "duration": 5,
    "start_time": "2024-06-04T15:30:33.817Z"
   },
   {
    "duration": 11,
    "start_time": "2024-06-04T15:30:33.823Z"
   },
   {
    "duration": 10,
    "start_time": "2024-06-04T15:30:33.836Z"
   },
   {
    "duration": 7,
    "start_time": "2024-06-04T15:30:33.847Z"
   },
   {
    "duration": 4,
    "start_time": "2024-06-04T15:30:33.855Z"
   },
   {
    "duration": 6,
    "start_time": "2024-06-04T15:30:33.860Z"
   },
   {
    "duration": 21,
    "start_time": "2024-06-04T15:30:33.867Z"
   },
   {
    "duration": 10,
    "start_time": "2024-06-04T15:30:33.889Z"
   }
  ],
  "kernelspec": {
   "display_name": "Python 3 (ipykernel)",
   "language": "python",
   "name": "python3"
  },
  "language_info": {
   "codemirror_mode": {
    "name": "ipython",
    "version": 3
   },
   "file_extension": ".py",
   "mimetype": "text/x-python",
   "name": "python",
   "nbconvert_exporter": "python",
   "pygments_lexer": "ipython3",
   "version": "3.9.5"
  },
  "toc": {
   "base_numbering": 1,
   "nav_menu": {},
   "number_sections": false,
   "sideBar": true,
   "skip_h1_title": false,
   "title_cell": "Table of Contents",
   "title_sidebar": "Contents",
   "toc_cell": false,
   "toc_position": {},
   "toc_section_display": true,
   "toc_window_display": false
  },
  "varInspector": {
   "cols": {
    "lenName": 16,
    "lenType": 16,
    "lenVar": 40
   },
   "kernels_config": {
    "python": {
     "delete_cmd_postfix": "",
     "delete_cmd_prefix": "del ",
     "library": "var_list.py",
     "varRefreshCmd": "print(var_dic_list())"
    },
    "r": {
     "delete_cmd_postfix": ") ",
     "delete_cmd_prefix": "rm(",
     "library": "var_list.r",
     "varRefreshCmd": "cat(var_dic_list()) "
    }
   },
   "types_to_exclude": [
    "module",
    "function",
    "builtin_function_or_method",
    "instance",
    "_Feature"
   ],
   "window_display": false
  }
 },
 "nbformat": 4,
 "nbformat_minor": 5
}
